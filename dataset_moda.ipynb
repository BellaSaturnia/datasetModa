{
  "nbformat": 4,
  "nbformat_minor": 0,
  "metadata": {
    "colab": {
      "provenance": [],
      "include_colab_link": true
    },
    "kernelspec": {
      "name": "python3",
      "display_name": "Python 3"
    },
    "language_info": {
      "name": "python"
    }
  },
  "cells": [
    {
      "cell_type": "markdown",
      "metadata": {
        "id": "view-in-github",
        "colab_type": "text"
      },
      "source": [
        "<a href=\"https://colab.research.google.com/github/BellaSaturnia/datasetModa/blob/main/dataset_moda.ipynb\" target=\"_parent\"><img src=\"https://colab.research.google.com/assets/colab-badge.svg\" alt=\"Open In Colab\"/></a>"
      ]
    },
    {
      "cell_type": "markdown",
      "source": [
        "# Exploración, Análisis, Visualización y Machine Learning en datos de la Industria de la Moda\n",
        "\n",
        "#### **Contexto**: La industria del comercio electrónico (e-commerce) en el ámbito de la moda nos presenta un escenario altamente competitivo con un crecimiento exponencial a nivel mundial debido al gran conjunto de datos que espera ser extraído e investigado. En este contexto, resulta esencial comprender los patrones de comportamiento de los consumidores mediante la exploración, análisis y visualización de productos de moda seleccionados. Mediante diversas plataformas digitales y redes sociales se ha transformado la experiencia del cliente pero además esto ha revolucionado la industria de la moda misma llevando a una gran necesidad de explorar sus nuevas tendencias, productividad, y por lo tanto, futuros desarrollos. Es así que la ciencia de datos puede cumplir un rol central en la industria de la moda para comprender la evolución y las tendencias de la misma.\n",
        "\n",
        "#### **Interes de la investigación**: el objetivo principal de este proyecto (compuesto de 8 secciones) es comprender los patrones predominantes de los productos de moda seleccionados y así optimizar la experiencia de los usuarios. En otras palabras, el proyecto no solo tiene interés en los productos de moda y diseño en cuanto tales sino, ante todo, en la optimización de los productos seleccionados por los consumidores para comprender la evolución de los mismos y la predicción de precios futuros. El dataset incluye las siguientes columnas relevantes:\n",
        "\n",
        "- product_id: esta es la clave única que permite identificar al producto dentor del catálogo.\n",
        "\n",
        "- gender: esta categoría permite clasificar (target) el producto de acuerdo a tres tipos de clasificadores, femenino, masculino y unisex.\n",
        "\n",
        "- masterCategory: se trata de una categoría primaria que distingue al producto de acuerdo a su función, sus parámetros son los siguientes: apparel (vestimenta), accesories (accesorios), footwear (calzados), personal care (fragancias).\n",
        "\n",
        "- subCategory: se trata de una categoría secundaria, que depende de la anterior, y en la que se distingue al producto en una categoría un poco más específica, por ejemplo, dentro de vestimentas (apparel), esta columna especifica si se trata de un topwear (ropa zona-superior), bottomwear (ropa zona-inferior), innerwear (ropa interior), etc.\n",
        "\n",
        "- articleType: es una categoría dependiente de las dos anteriores, con una clasificación aún más específica respecto al tipo de producto. Por ejemplo, dentro de vestimentas (apparel) y a su vez dentro de topwear (ropa zona-superior) esta categoría especifica si se trata de una remera (t-shirt), un top, un pullover (sweatshirts), y otros.\n",
        "\n",
        "- baseColour: especifica el color del producto\n",
        "\n",
        "- season: especifica a qué temporada de la moda está dirigido.\n",
        "\n",
        "- year: especifica el año al que pertenece\n",
        "\n",
        "- usage: especifica el tipo de uso, si es casual, deportivo, etc.\n",
        "\n",
        "- productDisplayName: se trata del nombre con el que se presenta el producto en la plataforma de venta online.\n",
        "\n",
        "- price: se especifica el precio en dólares.\n",
        "\n",
        "\n",
        "#### **Condición de la Base de Datos:**\n",
        "\n",
        "Esta base de datos es una muestra (2.131 registros) realizada a partir de una población de más de 44 mil datos. Adicionalmente se ha agregado una tabla de precios (en dólares) con el fin de contar con dos tablas numéricas, la otra corresponde al año que ya venía incorporada a la base de datos original.\n",
        "\n",
        "\n",
        "#### **Fuente de datos:**\n",
        "\n",
        "https://www.kaggle.com/datasets/paramaggarwal/fashion-product-images-small\n",
        "\n"
      ],
      "metadata": {
        "id": "nxHcg6KIUYr7"
      }
    },
    {
      "cell_type": "markdown",
      "source": [
        "# 1. Exploración del data set\n",
        "**Importación de la librería Pandas**"
      ],
      "metadata": {
        "id": "FIfFhNARTYzK"
      }
    },
    {
      "cell_type": "code",
      "source": [
        "import pandas as pd"
      ],
      "metadata": {
        "id": "I8w4zVSIlVDE"
      },
      "execution_count": 1,
      "outputs": []
    },
    {
      "cell_type": "code",
      "source": [
        "moda = pd.read_excel('/content/sytles_small_database.xlsx')\n"
      ],
      "metadata": {
        "id": "IdrQ8pt6pNu7"
      },
      "execution_count": 2,
      "outputs": []
    },
    {
      "cell_type": "markdown",
      "source": [
        "# 2.a. Estructura del Data Set\n",
        "\n",
        "En esta sección se pueden verificar las primero 5 entradas del dataset con sus respectivas columnas"
      ],
      "metadata": {
        "id": "XfGaTI-3phW6"
      }
    },
    {
      "cell_type": "code",
      "source": [
        "moda.head(5)"
      ],
      "metadata": {
        "colab": {
          "base_uri": "https://localhost:8080/",
          "height": 206
        },
        "id": "mzUDlNtWqvlg",
        "outputId": "e78d1e12-0736-477d-fc72-d792c102f298"
      },
      "execution_count": 3,
      "outputs": [
        {
          "output_type": "execute_result",
          "data": {
            "text/plain": [
              "      id gender masterCategory subCategory  articleType baseColour  season  \\\n",
              "0  15970    Men        Apparel     Topwear       Shirts  Navy Blue    Fall   \n",
              "1  39386    Men        Apparel  Bottomwear        Jeans       Blue  Summer   \n",
              "2  59263  Women    Accessories     Watches      Watches     Silver  Winter   \n",
              "3  21379    Men        Apparel  Bottomwear  Track Pants      Black    Fall   \n",
              "4  53759    Men        Apparel     Topwear      Tshirts       Grey  Summer   \n",
              "\n",
              "   year   usage                             productDisplayName  Unnamed: 10  \\\n",
              "0  2011  Casual               Turtle Check Men Navy Blue Shirt          NaN   \n",
              "1  2012  Casual             Peter England Men Party Blue Jeans          NaN   \n",
              "2  2016  Casual                       Titan Women Silver Watch          NaN   \n",
              "3  2011  Casual  Manchester United Men Solid Black Track Pants          NaN   \n",
              "4  2012  Casual                          Puma Men Grey T-shirt          NaN   \n",
              "\n",
              "   Unnamed: 11  price in dolars  \n",
              "0          NaN              323  \n",
              "1          NaN              161  \n",
              "2          NaN              500  \n",
              "3          NaN               55  \n",
              "4          NaN              209  "
            ],
            "text/html": [
              "\n",
              "  <div id=\"df-3583f27c-9624-4a61-b253-d8b1300f2c6e\" class=\"colab-df-container\">\n",
              "    <div>\n",
              "<style scoped>\n",
              "    .dataframe tbody tr th:only-of-type {\n",
              "        vertical-align: middle;\n",
              "    }\n",
              "\n",
              "    .dataframe tbody tr th {\n",
              "        vertical-align: top;\n",
              "    }\n",
              "\n",
              "    .dataframe thead th {\n",
              "        text-align: right;\n",
              "    }\n",
              "</style>\n",
              "<table border=\"1\" class=\"dataframe\">\n",
              "  <thead>\n",
              "    <tr style=\"text-align: right;\">\n",
              "      <th></th>\n",
              "      <th>id</th>\n",
              "      <th>gender</th>\n",
              "      <th>masterCategory</th>\n",
              "      <th>subCategory</th>\n",
              "      <th>articleType</th>\n",
              "      <th>baseColour</th>\n",
              "      <th>season</th>\n",
              "      <th>year</th>\n",
              "      <th>usage</th>\n",
              "      <th>productDisplayName</th>\n",
              "      <th>Unnamed: 10</th>\n",
              "      <th>Unnamed: 11</th>\n",
              "      <th>price in dolars</th>\n",
              "    </tr>\n",
              "  </thead>\n",
              "  <tbody>\n",
              "    <tr>\n",
              "      <th>0</th>\n",
              "      <td>15970</td>\n",
              "      <td>Men</td>\n",
              "      <td>Apparel</td>\n",
              "      <td>Topwear</td>\n",
              "      <td>Shirts</td>\n",
              "      <td>Navy Blue</td>\n",
              "      <td>Fall</td>\n",
              "      <td>2011</td>\n",
              "      <td>Casual</td>\n",
              "      <td>Turtle Check Men Navy Blue Shirt</td>\n",
              "      <td>NaN</td>\n",
              "      <td>NaN</td>\n",
              "      <td>323</td>\n",
              "    </tr>\n",
              "    <tr>\n",
              "      <th>1</th>\n",
              "      <td>39386</td>\n",
              "      <td>Men</td>\n",
              "      <td>Apparel</td>\n",
              "      <td>Bottomwear</td>\n",
              "      <td>Jeans</td>\n",
              "      <td>Blue</td>\n",
              "      <td>Summer</td>\n",
              "      <td>2012</td>\n",
              "      <td>Casual</td>\n",
              "      <td>Peter England Men Party Blue Jeans</td>\n",
              "      <td>NaN</td>\n",
              "      <td>NaN</td>\n",
              "      <td>161</td>\n",
              "    </tr>\n",
              "    <tr>\n",
              "      <th>2</th>\n",
              "      <td>59263</td>\n",
              "      <td>Women</td>\n",
              "      <td>Accessories</td>\n",
              "      <td>Watches</td>\n",
              "      <td>Watches</td>\n",
              "      <td>Silver</td>\n",
              "      <td>Winter</td>\n",
              "      <td>2016</td>\n",
              "      <td>Casual</td>\n",
              "      <td>Titan Women Silver Watch</td>\n",
              "      <td>NaN</td>\n",
              "      <td>NaN</td>\n",
              "      <td>500</td>\n",
              "    </tr>\n",
              "    <tr>\n",
              "      <th>3</th>\n",
              "      <td>21379</td>\n",
              "      <td>Men</td>\n",
              "      <td>Apparel</td>\n",
              "      <td>Bottomwear</td>\n",
              "      <td>Track Pants</td>\n",
              "      <td>Black</td>\n",
              "      <td>Fall</td>\n",
              "      <td>2011</td>\n",
              "      <td>Casual</td>\n",
              "      <td>Manchester United Men Solid Black Track Pants</td>\n",
              "      <td>NaN</td>\n",
              "      <td>NaN</td>\n",
              "      <td>55</td>\n",
              "    </tr>\n",
              "    <tr>\n",
              "      <th>4</th>\n",
              "      <td>53759</td>\n",
              "      <td>Men</td>\n",
              "      <td>Apparel</td>\n",
              "      <td>Topwear</td>\n",
              "      <td>Tshirts</td>\n",
              "      <td>Grey</td>\n",
              "      <td>Summer</td>\n",
              "      <td>2012</td>\n",
              "      <td>Casual</td>\n",
              "      <td>Puma Men Grey T-shirt</td>\n",
              "      <td>NaN</td>\n",
              "      <td>NaN</td>\n",
              "      <td>209</td>\n",
              "    </tr>\n",
              "  </tbody>\n",
              "</table>\n",
              "</div>\n",
              "    <div class=\"colab-df-buttons\">\n",
              "\n",
              "  <div class=\"colab-df-container\">\n",
              "    <button class=\"colab-df-convert\" onclick=\"convertToInteractive('df-3583f27c-9624-4a61-b253-d8b1300f2c6e')\"\n",
              "            title=\"Convert this dataframe to an interactive table.\"\n",
              "            style=\"display:none;\">\n",
              "\n",
              "  <svg xmlns=\"http://www.w3.org/2000/svg\" height=\"24px\" viewBox=\"0 -960 960 960\">\n",
              "    <path d=\"M120-120v-720h720v720H120Zm60-500h600v-160H180v160Zm220 220h160v-160H400v160Zm0 220h160v-160H400v160ZM180-400h160v-160H180v160Zm440 0h160v-160H620v160ZM180-180h160v-160H180v160Zm440 0h160v-160H620v160Z\"/>\n",
              "  </svg>\n",
              "    </button>\n",
              "\n",
              "  <style>\n",
              "    .colab-df-container {\n",
              "      display:flex;\n",
              "      gap: 12px;\n",
              "    }\n",
              "\n",
              "    .colab-df-convert {\n",
              "      background-color: #E8F0FE;\n",
              "      border: none;\n",
              "      border-radius: 50%;\n",
              "      cursor: pointer;\n",
              "      display: none;\n",
              "      fill: #1967D2;\n",
              "      height: 32px;\n",
              "      padding: 0 0 0 0;\n",
              "      width: 32px;\n",
              "    }\n",
              "\n",
              "    .colab-df-convert:hover {\n",
              "      background-color: #E2EBFA;\n",
              "      box-shadow: 0px 1px 2px rgba(60, 64, 67, 0.3), 0px 1px 3px 1px rgba(60, 64, 67, 0.15);\n",
              "      fill: #174EA6;\n",
              "    }\n",
              "\n",
              "    .colab-df-buttons div {\n",
              "      margin-bottom: 4px;\n",
              "    }\n",
              "\n",
              "    [theme=dark] .colab-df-convert {\n",
              "      background-color: #3B4455;\n",
              "      fill: #D2E3FC;\n",
              "    }\n",
              "\n",
              "    [theme=dark] .colab-df-convert:hover {\n",
              "      background-color: #434B5C;\n",
              "      box-shadow: 0px 1px 3px 1px rgba(0, 0, 0, 0.15);\n",
              "      filter: drop-shadow(0px 1px 2px rgba(0, 0, 0, 0.3));\n",
              "      fill: #FFFFFF;\n",
              "    }\n",
              "  </style>\n",
              "\n",
              "    <script>\n",
              "      const buttonEl =\n",
              "        document.querySelector('#df-3583f27c-9624-4a61-b253-d8b1300f2c6e button.colab-df-convert');\n",
              "      buttonEl.style.display =\n",
              "        google.colab.kernel.accessAllowed ? 'block' : 'none';\n",
              "\n",
              "      async function convertToInteractive(key) {\n",
              "        const element = document.querySelector('#df-3583f27c-9624-4a61-b253-d8b1300f2c6e');\n",
              "        const dataTable =\n",
              "          await google.colab.kernel.invokeFunction('convertToInteractive',\n",
              "                                                    [key], {});\n",
              "        if (!dataTable) return;\n",
              "\n",
              "        const docLinkHtml = 'Like what you see? Visit the ' +\n",
              "          '<a target=\"_blank\" href=https://colab.research.google.com/notebooks/data_table.ipynb>data table notebook</a>'\n",
              "          + ' to learn more about interactive tables.';\n",
              "        element.innerHTML = '';\n",
              "        dataTable['output_type'] = 'display_data';\n",
              "        await google.colab.output.renderOutput(dataTable, element);\n",
              "        const docLink = document.createElement('div');\n",
              "        docLink.innerHTML = docLinkHtml;\n",
              "        element.appendChild(docLink);\n",
              "      }\n",
              "    </script>\n",
              "  </div>\n",
              "\n",
              "\n",
              "<div id=\"df-5d208a97-f5ab-4fc7-847f-f3c69e45fcda\">\n",
              "  <button class=\"colab-df-quickchart\" onclick=\"quickchart('df-5d208a97-f5ab-4fc7-847f-f3c69e45fcda')\"\n",
              "            title=\"Suggest charts.\"\n",
              "            style=\"display:none;\">\n",
              "\n",
              "<svg xmlns=\"http://www.w3.org/2000/svg\" height=\"24px\"viewBox=\"0 0 24 24\"\n",
              "     width=\"24px\">\n",
              "    <g>\n",
              "        <path d=\"M19 3H5c-1.1 0-2 .9-2 2v14c0 1.1.9 2 2 2h14c1.1 0 2-.9 2-2V5c0-1.1-.9-2-2-2zM9 17H7v-7h2v7zm4 0h-2V7h2v10zm4 0h-2v-4h2v4z\"/>\n",
              "    </g>\n",
              "</svg>\n",
              "  </button>\n",
              "\n",
              "<style>\n",
              "  .colab-df-quickchart {\n",
              "      --bg-color: #E8F0FE;\n",
              "      --fill-color: #1967D2;\n",
              "      --hover-bg-color: #E2EBFA;\n",
              "      --hover-fill-color: #174EA6;\n",
              "      --disabled-fill-color: #AAA;\n",
              "      --disabled-bg-color: #DDD;\n",
              "  }\n",
              "\n",
              "  [theme=dark] .colab-df-quickchart {\n",
              "      --bg-color: #3B4455;\n",
              "      --fill-color: #D2E3FC;\n",
              "      --hover-bg-color: #434B5C;\n",
              "      --hover-fill-color: #FFFFFF;\n",
              "      --disabled-bg-color: #3B4455;\n",
              "      --disabled-fill-color: #666;\n",
              "  }\n",
              "\n",
              "  .colab-df-quickchart {\n",
              "    background-color: var(--bg-color);\n",
              "    border: none;\n",
              "    border-radius: 50%;\n",
              "    cursor: pointer;\n",
              "    display: none;\n",
              "    fill: var(--fill-color);\n",
              "    height: 32px;\n",
              "    padding: 0;\n",
              "    width: 32px;\n",
              "  }\n",
              "\n",
              "  .colab-df-quickchart:hover {\n",
              "    background-color: var(--hover-bg-color);\n",
              "    box-shadow: 0 1px 2px rgba(60, 64, 67, 0.3), 0 1px 3px 1px rgba(60, 64, 67, 0.15);\n",
              "    fill: var(--button-hover-fill-color);\n",
              "  }\n",
              "\n",
              "  .colab-df-quickchart-complete:disabled,\n",
              "  .colab-df-quickchart-complete:disabled:hover {\n",
              "    background-color: var(--disabled-bg-color);\n",
              "    fill: var(--disabled-fill-color);\n",
              "    box-shadow: none;\n",
              "  }\n",
              "\n",
              "  .colab-df-spinner {\n",
              "    border: 2px solid var(--fill-color);\n",
              "    border-color: transparent;\n",
              "    border-bottom-color: var(--fill-color);\n",
              "    animation:\n",
              "      spin 1s steps(1) infinite;\n",
              "  }\n",
              "\n",
              "  @keyframes spin {\n",
              "    0% {\n",
              "      border-color: transparent;\n",
              "      border-bottom-color: var(--fill-color);\n",
              "      border-left-color: var(--fill-color);\n",
              "    }\n",
              "    20% {\n",
              "      border-color: transparent;\n",
              "      border-left-color: var(--fill-color);\n",
              "      border-top-color: var(--fill-color);\n",
              "    }\n",
              "    30% {\n",
              "      border-color: transparent;\n",
              "      border-left-color: var(--fill-color);\n",
              "      border-top-color: var(--fill-color);\n",
              "      border-right-color: var(--fill-color);\n",
              "    }\n",
              "    40% {\n",
              "      border-color: transparent;\n",
              "      border-right-color: var(--fill-color);\n",
              "      border-top-color: var(--fill-color);\n",
              "    }\n",
              "    60% {\n",
              "      border-color: transparent;\n",
              "      border-right-color: var(--fill-color);\n",
              "    }\n",
              "    80% {\n",
              "      border-color: transparent;\n",
              "      border-right-color: var(--fill-color);\n",
              "      border-bottom-color: var(--fill-color);\n",
              "    }\n",
              "    90% {\n",
              "      border-color: transparent;\n",
              "      border-bottom-color: var(--fill-color);\n",
              "    }\n",
              "  }\n",
              "</style>\n",
              "\n",
              "  <script>\n",
              "    async function quickchart(key) {\n",
              "      const quickchartButtonEl =\n",
              "        document.querySelector('#' + key + ' button');\n",
              "      quickchartButtonEl.disabled = true;  // To prevent multiple clicks.\n",
              "      quickchartButtonEl.classList.add('colab-df-spinner');\n",
              "      try {\n",
              "        const charts = await google.colab.kernel.invokeFunction(\n",
              "            'suggestCharts', [key], {});\n",
              "      } catch (error) {\n",
              "        console.error('Error during call to suggestCharts:', error);\n",
              "      }\n",
              "      quickchartButtonEl.classList.remove('colab-df-spinner');\n",
              "      quickchartButtonEl.classList.add('colab-df-quickchart-complete');\n",
              "    }\n",
              "    (() => {\n",
              "      let quickchartButtonEl =\n",
              "        document.querySelector('#df-5d208a97-f5ab-4fc7-847f-f3c69e45fcda button');\n",
              "      quickchartButtonEl.style.display =\n",
              "        google.colab.kernel.accessAllowed ? 'block' : 'none';\n",
              "    })();\n",
              "  </script>\n",
              "</div>\n",
              "    </div>\n",
              "  </div>\n"
            ]
          },
          "metadata": {},
          "execution_count": 3
        }
      ]
    },
    {
      "cell_type": "code",
      "source": [
        "moda.columns"
      ],
      "metadata": {
        "colab": {
          "base_uri": "https://localhost:8080/"
        },
        "id": "e-FmwQnZnznU",
        "outputId": "686d607c-e638-4dca-8c6f-ecb27bdacb99"
      },
      "execution_count": 4,
      "outputs": [
        {
          "output_type": "execute_result",
          "data": {
            "text/plain": [
              "Index(['id', 'gender', 'masterCategory', 'subCategory', 'articleType',\n",
              "       'baseColour', 'season', 'year', 'usage', 'productDisplayName',\n",
              "       'Unnamed: 10', 'Unnamed: 11', 'price in dolars'],\n",
              "      dtype='object')"
            ]
          },
          "metadata": {},
          "execution_count": 4
        }
      ]
    },
    {
      "cell_type": "code",
      "source": [
        "moda['subCategory'].unique()"
      ],
      "metadata": {
        "colab": {
          "base_uri": "https://localhost:8080/"
        },
        "id": "yFngCr-3n3w2",
        "outputId": "0fda5b70-8252-4895-900c-ef510e14c5e6"
      },
      "execution_count": 5,
      "outputs": [
        {
          "output_type": "execute_result",
          "data": {
            "text/plain": [
              "array(['Topwear', 'Bottomwear', 'Watches', 'Socks', 'Shoes', 'Belts',\n",
              "       'Flip Flops', 'Bags', 'Innerwear', 'Sandal', 'Shoe Accessories',\n",
              "       'Fragrance', 'Jewellery', 'Lips', 'Saree', 'Eyewear', 'Nails',\n",
              "       'Scarves', 'Dress', 'Loungewear and Nightwear', 'Wallets',\n",
              "       'Apparel Set', 'Headwear', 'Mufflers', 'Skin Care', 'Makeup',\n",
              "       'Free Gifts', 'Ties', 'Accessories', 'Skin', 'Beauty Accessories',\n",
              "       'Water Bottle', 'Eyes'], dtype=object)"
            ]
          },
          "metadata": {},
          "execution_count": 5
        }
      ]
    },
    {
      "cell_type": "markdown",
      "source": [
        "# 2.b. Estructura II del Data Set\n",
        "\n",
        "La siguiente línea de código permite verificar la cantidad de registros (filas) del dataset seguido por la cantidad de variables o atributos (columnas)"
      ],
      "metadata": {
        "id": "ilDkDHXj21b6"
      }
    },
    {
      "cell_type": "code",
      "source": [
        "moda.shape"
      ],
      "metadata": {
        "colab": {
          "base_uri": "https://localhost:8080/"
        },
        "id": "SfHl7eCo4eKG",
        "outputId": "8dbdd969-7b64-4201-dda0-f46170a01ce8"
      },
      "execution_count": 6,
      "outputs": [
        {
          "output_type": "execute_result",
          "data": {
            "text/plain": [
              "(2130, 13)"
            ]
          },
          "metadata": {},
          "execution_count": 6
        }
      ]
    },
    {
      "cell_type": "markdown",
      "source": [
        "# 2.c. Estructura III del Data Set\n",
        "\n",
        "Como se puede observar mediante la ejecución de la línea 11, el método .info() da cuenta de el tipo de datos del Data Set (por ejemplo, float, object, int64) lo cual es imprescindible para, posteriormente, transformar, limpiar, o corregir el dataset."
      ],
      "metadata": {
        "id": "YSK-LgxZ5uGk"
      }
    },
    {
      "cell_type": "code",
      "source": [
        "moda.info()"
      ],
      "metadata": {
        "colab": {
          "base_uri": "https://localhost:8080/"
        },
        "id": "_63l85Dw50IY",
        "outputId": "633e985a-d778-4c6e-fcd5-2c0b1f847aaf"
      },
      "execution_count": 7,
      "outputs": [
        {
          "output_type": "stream",
          "name": "stdout",
          "text": [
            "<class 'pandas.core.frame.DataFrame'>\n",
            "RangeIndex: 2130 entries, 0 to 2129\n",
            "Data columns (total 13 columns):\n",
            " #   Column              Non-Null Count  Dtype  \n",
            "---  ------              --------------  -----  \n",
            " 0   id                  2130 non-null   int64  \n",
            " 1   gender              2130 non-null   object \n",
            " 2   masterCategory      2130 non-null   object \n",
            " 3   subCategory         2130 non-null   object \n",
            " 4   articleType         2130 non-null   object \n",
            " 5   baseColour          2130 non-null   object \n",
            " 6   season              2129 non-null   object \n",
            " 7   year                2130 non-null   int64  \n",
            " 8   usage               2108 non-null   object \n",
            " 9   productDisplayName  2130 non-null   object \n",
            " 10  Unnamed: 10         0 non-null      float64\n",
            " 11  Unnamed: 11         0 non-null      float64\n",
            " 12  price in dolars     2130 non-null   int64  \n",
            "dtypes: float64(2), int64(3), object(8)\n",
            "memory usage: 216.5+ KB\n"
          ]
        }
      ]
    },
    {
      "cell_type": "markdown",
      "source": [
        "# 3.a. Corrección y Limpieza del Data Set\n",
        "\n",
        "Una vez conocidas las estructuras básicas del Data Set, se prosigue con la limpieza o corrección del mismo. Como podemos verificar en la línea 9 del código, existen columnas como: \"Unnamed: 10 y Unnamed: 11\" cuyos valores \"NaN\" (Not a Number) no contienen ningún registro, y por no contener valor alguno han de ser eliminadas. También se eliminarán las columnas \"productDisplayName\" y 'baseColour, ya que, para nuestros fines, no contiene ningún valor conocer cómo es titulado el producto en su plataforma online ni el color particular de los productos."
      ],
      "metadata": {
        "id": "cO_Ru13Y6-mr"
      }
    },
    {
      "cell_type": "code",
      "source": [
        "df = moda.drop(['productDisplayName', 'Unnamed: 10', 'Unnamed: 11', 'baseColour'], axis=1)\n",
        "df.info()"
      ],
      "metadata": {
        "colab": {
          "base_uri": "https://localhost:8080/"
        },
        "id": "hgZRrbItFX3s",
        "outputId": "00241aa2-0d79-4133-84c7-c32689512765"
      },
      "execution_count": 8,
      "outputs": [
        {
          "output_type": "stream",
          "name": "stdout",
          "text": [
            "<class 'pandas.core.frame.DataFrame'>\n",
            "RangeIndex: 2130 entries, 0 to 2129\n",
            "Data columns (total 9 columns):\n",
            " #   Column           Non-Null Count  Dtype \n",
            "---  ------           --------------  ----- \n",
            " 0   id               2130 non-null   int64 \n",
            " 1   gender           2130 non-null   object\n",
            " 2   masterCategory   2130 non-null   object\n",
            " 3   subCategory      2130 non-null   object\n",
            " 4   articleType      2130 non-null   object\n",
            " 5   season           2129 non-null   object\n",
            " 6   year             2130 non-null   int64 \n",
            " 7   usage            2108 non-null   object\n",
            " 8   price in dolars  2130 non-null   int64 \n",
            "dtypes: int64(3), object(6)\n",
            "memory usage: 149.9+ KB\n"
          ]
        }
      ]
    },
    {
      "cell_type": "markdown",
      "source": [
        "Luego son vertificadas nuevamente la cantidad de columnas disponibles en el Data Set"
      ],
      "metadata": {
        "id": "4XyO_Q5jFzok"
      }
    },
    {
      "cell_type": "code",
      "source": [
        "df.columns"
      ],
      "metadata": {
        "colab": {
          "base_uri": "https://localhost:8080/"
        },
        "id": "q3UEVyRIH33U",
        "outputId": "d2a313f6-833e-44b0-86bc-470641a0d011"
      },
      "execution_count": 9,
      "outputs": [
        {
          "output_type": "execute_result",
          "data": {
            "text/plain": [
              "Index(['id', 'gender', 'masterCategory', 'subCategory', 'articleType',\n",
              "       'season', 'year', 'usage', 'price in dolars'],\n",
              "      dtype='object')"
            ]
          },
          "metadata": {},
          "execution_count": 9
        }
      ]
    },
    {
      "cell_type": "markdown",
      "source": [
        "# 3.b. Eliminar atributos no significativos\n",
        "\n",
        "Dado que se pretende reducir la cantidad de datos de análisis y centrar el enfoque de productividad en la industria textil así como de calzado y carteras, se eliminarán atributos tales como joyería, make-up (maquillaje), skin-care (productos de cuidado de la piel), fragancias, y otros."
      ],
      "metadata": {
        "id": "6aZ4-3C9i4mQ"
      }
    },
    {
      "cell_type": "code",
      "source": [
        "df = df[~df['subCategory'].isin(['Skin', 'Skin Care', 'Makeup', 'Beauty Accessories','Nails', 'Water Bottle', 'Eyes', 'Jewellery', 'Saree', 'Lips', 'Eyewear', 'Wallets', 'Apparel Set', 'Mufflers', 'Free Gifts', 'Accessories', 'Fragrance', 'Loungewear and Nightwear', 'Shoe Accessories', 'Watches', 'Flip Flops', 'Sandal', 'Ties'])]"
      ],
      "metadata": {
        "id": "RyVj2er4CKCk"
      },
      "execution_count": 10,
      "outputs": []
    },
    {
      "cell_type": "code",
      "source": [
        "df['subCategory'].unique()"
      ],
      "metadata": {
        "colab": {
          "base_uri": "https://localhost:8080/"
        },
        "id": "jme_6sYLCRzO",
        "outputId": "0f6a1627-3565-4add-a86a-46d3ed48a599"
      },
      "execution_count": 11,
      "outputs": [
        {
          "output_type": "execute_result",
          "data": {
            "text/plain": [
              "array(['Topwear', 'Bottomwear', 'Socks', 'Shoes', 'Belts', 'Bags',\n",
              "       'Innerwear', 'Scarves', 'Dress', 'Headwear'], dtype=object)"
            ]
          },
          "metadata": {},
          "execution_count": 11
        }
      ]
    },
    {
      "cell_type": "markdown",
      "source": [
        "# 3.c. Revisión de valores nulos\n",
        "\n",
        "Antes de llegar a la etapa de análisis se realiza la etapa de exploración y limpieza de datos de modo que los mismos sean claros, coherentes y útiles al momento de alcanzar conclusiones"
      ],
      "metadata": {
        "id": "_RVbAMnwNISe"
      }
    },
    {
      "cell_type": "code",
      "source": [
        "df.isnull().sum()"
      ],
      "metadata": {
        "colab": {
          "base_uri": "https://localhost:8080/"
        },
        "id": "NRpXl8yl8Vbg",
        "outputId": "b74a0414-73fe-437f-f7d9-ec0e529dd2aa"
      },
      "execution_count": 12,
      "outputs": [
        {
          "output_type": "execute_result",
          "data": {
            "text/plain": [
              "id                 0\n",
              "gender             0\n",
              "masterCategory     0\n",
              "subCategory        0\n",
              "articleType        0\n",
              "season             1\n",
              "year               0\n",
              "usage              4\n",
              "price in dolars    0\n",
              "dtype: int64"
            ]
          },
          "metadata": {},
          "execution_count": 12
        }
      ]
    },
    {
      "cell_type": "code",
      "source": [
        "moda['usage'].value_counts()"
      ],
      "metadata": {
        "colab": {
          "base_uri": "https://localhost:8080/"
        },
        "id": "lje1jjvyAPKd",
        "outputId": "6a26ec1f-65ea-4e3e-cce0-57cf50bb1d80"
      },
      "execution_count": 13,
      "outputs": [
        {
          "output_type": "execute_result",
          "data": {
            "text/plain": [
              "Casual          1678\n",
              "Sports           190\n",
              "Ethnic           133\n",
              "Formal           105\n",
              "Smart Casual       1\n",
              "Travel             1\n",
              "Name: usage, dtype: int64"
            ]
          },
          "metadata": {},
          "execution_count": 13
        }
      ]
    },
    {
      "cell_type": "markdown",
      "source": [
        "Como se puede ver todas las columnas cuentan con información, exceptuando la columna 'season', a la que le falta un dato, y la columna 'usage', a la que le faltan 4 datos. En ambos casos la cantidad de datos faltantes no es significantiva respecto al total de los datos. Respecto a los 4 datos faltantes de 'usage', esto representa un 0,22% del total de modo que, en este contexto, se imputarán los datos faltantes y se agregará en el paso siguiente una nueva categoría llamada \"MISSING\". Esto puede ser identificado, por ejemplo, en la línea de código 36 dentro del id 2119"
      ],
      "metadata": {
        "id": "vL6T2cNVBUZW"
      }
    },
    {
      "cell_type": "code",
      "source": [
        "df['usage'] = df['usage'].fillna('_MISSING_')"
      ],
      "metadata": {
        "id": "LubJZLJyUiHt"
      },
      "execution_count": 14,
      "outputs": []
    },
    {
      "cell_type": "code",
      "source": [
        "df.tail(20)"
      ],
      "metadata": {
        "colab": {
          "base_uri": "https://localhost:8080/",
          "height": 677
        },
        "id": "6bBzHuBbVEP-",
        "outputId": "b9604e0b-8b12-4deb-97e3-ee7d9164f898"
      },
      "execution_count": 15,
      "outputs": [
        {
          "output_type": "execute_result",
          "data": {
            "text/plain": [
              "         id  gender masterCategory subCategory   articleType  season  year  \\\n",
              "2106  22332     Men        Apparel     Topwear       Tshirts    Fall  2011   \n",
              "2109   7550     Men        Apparel     Topwear       Tshirts  Summer  2011   \n",
              "2110  19973     Men    Accessories    Headwear          Caps    Fall  2011   \n",
              "2111   6482     Men        Apparel     Topwear       Tshirts  Summer  2011   \n",
              "2112  34257     Men        Apparel  Bottomwear    Tracksuits  Summer  2013   \n",
              "2113  50712     Men        Apparel   Innerwear         Trunk  Summer  2016   \n",
              "2114  28608     Men       Footwear       Shoes  Sports Shoes  Summer  2012   \n",
              "2116  14650     Men        Apparel     Topwear       Tshirts    Fall  2011   \n",
              "2117  36500   Women        Apparel     Topwear        Kurtas  Summer  2012   \n",
              "2118  15782     Men        Apparel   Innerwear        Briefs  Summer  2016   \n",
              "2119  52045  Unisex        Apparel     Topwear   Rain Jacket  Summer  2012   \n",
              "2120  40580   Women        Apparel     Topwear          Tops  Summer  2012   \n",
              "2121  33072     Men        Apparel     Topwear       Tshirts  Summer  2012   \n",
              "2122  25117   Women    Accessories        Bags      Clutches  Winter  2015   \n",
              "2124  41452     Men       Footwear       Shoes  Casual Shoes  Summer  2012   \n",
              "2125  27224   Women        Apparel       Dress       Dresses  Summer  2012   \n",
              "2126  30293     Men        Apparel     Topwear       Tshirts  Summer  2012   \n",
              "2127   3594     Men       Footwear       Shoes  Casual Shoes  Summer  2011   \n",
              "2128   7908     Men        Apparel     Topwear       Tshirts    Fall  2012   \n",
              "2129  34633     Men       Footwear       Shoes  Sports Shoes  Summer  2012   \n",
              "\n",
              "          usage  price in dolars  \n",
              "2106     Casual              415  \n",
              "2109     Sports              528  \n",
              "2110     Casual              560  \n",
              "2111     Casual              900  \n",
              "2112     Sports              858  \n",
              "2113     Casual              680  \n",
              "2114     Sports               26  \n",
              "2116     Casual              545  \n",
              "2117     Ethnic               61  \n",
              "2118     Casual              885  \n",
              "2119  _MISSING_              320  \n",
              "2120     Casual               81  \n",
              "2121     Casual              788  \n",
              "2122     Casual              290  \n",
              "2124     Casual              613  \n",
              "2125     Casual              813  \n",
              "2126     Casual              220  \n",
              "2127     Casual              835  \n",
              "2128     Casual               65  \n",
              "2129     Sports              353  "
            ],
            "text/html": [
              "\n",
              "  <div id=\"df-e99ab22e-39a2-4f03-860c-8700c50488e4\" class=\"colab-df-container\">\n",
              "    <div>\n",
              "<style scoped>\n",
              "    .dataframe tbody tr th:only-of-type {\n",
              "        vertical-align: middle;\n",
              "    }\n",
              "\n",
              "    .dataframe tbody tr th {\n",
              "        vertical-align: top;\n",
              "    }\n",
              "\n",
              "    .dataframe thead th {\n",
              "        text-align: right;\n",
              "    }\n",
              "</style>\n",
              "<table border=\"1\" class=\"dataframe\">\n",
              "  <thead>\n",
              "    <tr style=\"text-align: right;\">\n",
              "      <th></th>\n",
              "      <th>id</th>\n",
              "      <th>gender</th>\n",
              "      <th>masterCategory</th>\n",
              "      <th>subCategory</th>\n",
              "      <th>articleType</th>\n",
              "      <th>season</th>\n",
              "      <th>year</th>\n",
              "      <th>usage</th>\n",
              "      <th>price in dolars</th>\n",
              "    </tr>\n",
              "  </thead>\n",
              "  <tbody>\n",
              "    <tr>\n",
              "      <th>2106</th>\n",
              "      <td>22332</td>\n",
              "      <td>Men</td>\n",
              "      <td>Apparel</td>\n",
              "      <td>Topwear</td>\n",
              "      <td>Tshirts</td>\n",
              "      <td>Fall</td>\n",
              "      <td>2011</td>\n",
              "      <td>Casual</td>\n",
              "      <td>415</td>\n",
              "    </tr>\n",
              "    <tr>\n",
              "      <th>2109</th>\n",
              "      <td>7550</td>\n",
              "      <td>Men</td>\n",
              "      <td>Apparel</td>\n",
              "      <td>Topwear</td>\n",
              "      <td>Tshirts</td>\n",
              "      <td>Summer</td>\n",
              "      <td>2011</td>\n",
              "      <td>Sports</td>\n",
              "      <td>528</td>\n",
              "    </tr>\n",
              "    <tr>\n",
              "      <th>2110</th>\n",
              "      <td>19973</td>\n",
              "      <td>Men</td>\n",
              "      <td>Accessories</td>\n",
              "      <td>Headwear</td>\n",
              "      <td>Caps</td>\n",
              "      <td>Fall</td>\n",
              "      <td>2011</td>\n",
              "      <td>Casual</td>\n",
              "      <td>560</td>\n",
              "    </tr>\n",
              "    <tr>\n",
              "      <th>2111</th>\n",
              "      <td>6482</td>\n",
              "      <td>Men</td>\n",
              "      <td>Apparel</td>\n",
              "      <td>Topwear</td>\n",
              "      <td>Tshirts</td>\n",
              "      <td>Summer</td>\n",
              "      <td>2011</td>\n",
              "      <td>Casual</td>\n",
              "      <td>900</td>\n",
              "    </tr>\n",
              "    <tr>\n",
              "      <th>2112</th>\n",
              "      <td>34257</td>\n",
              "      <td>Men</td>\n",
              "      <td>Apparel</td>\n",
              "      <td>Bottomwear</td>\n",
              "      <td>Tracksuits</td>\n",
              "      <td>Summer</td>\n",
              "      <td>2013</td>\n",
              "      <td>Sports</td>\n",
              "      <td>858</td>\n",
              "    </tr>\n",
              "    <tr>\n",
              "      <th>2113</th>\n",
              "      <td>50712</td>\n",
              "      <td>Men</td>\n",
              "      <td>Apparel</td>\n",
              "      <td>Innerwear</td>\n",
              "      <td>Trunk</td>\n",
              "      <td>Summer</td>\n",
              "      <td>2016</td>\n",
              "      <td>Casual</td>\n",
              "      <td>680</td>\n",
              "    </tr>\n",
              "    <tr>\n",
              "      <th>2114</th>\n",
              "      <td>28608</td>\n",
              "      <td>Men</td>\n",
              "      <td>Footwear</td>\n",
              "      <td>Shoes</td>\n",
              "      <td>Sports Shoes</td>\n",
              "      <td>Summer</td>\n",
              "      <td>2012</td>\n",
              "      <td>Sports</td>\n",
              "      <td>26</td>\n",
              "    </tr>\n",
              "    <tr>\n",
              "      <th>2116</th>\n",
              "      <td>14650</td>\n",
              "      <td>Men</td>\n",
              "      <td>Apparel</td>\n",
              "      <td>Topwear</td>\n",
              "      <td>Tshirts</td>\n",
              "      <td>Fall</td>\n",
              "      <td>2011</td>\n",
              "      <td>Casual</td>\n",
              "      <td>545</td>\n",
              "    </tr>\n",
              "    <tr>\n",
              "      <th>2117</th>\n",
              "      <td>36500</td>\n",
              "      <td>Women</td>\n",
              "      <td>Apparel</td>\n",
              "      <td>Topwear</td>\n",
              "      <td>Kurtas</td>\n",
              "      <td>Summer</td>\n",
              "      <td>2012</td>\n",
              "      <td>Ethnic</td>\n",
              "      <td>61</td>\n",
              "    </tr>\n",
              "    <tr>\n",
              "      <th>2118</th>\n",
              "      <td>15782</td>\n",
              "      <td>Men</td>\n",
              "      <td>Apparel</td>\n",
              "      <td>Innerwear</td>\n",
              "      <td>Briefs</td>\n",
              "      <td>Summer</td>\n",
              "      <td>2016</td>\n",
              "      <td>Casual</td>\n",
              "      <td>885</td>\n",
              "    </tr>\n",
              "    <tr>\n",
              "      <th>2119</th>\n",
              "      <td>52045</td>\n",
              "      <td>Unisex</td>\n",
              "      <td>Apparel</td>\n",
              "      <td>Topwear</td>\n",
              "      <td>Rain Jacket</td>\n",
              "      <td>Summer</td>\n",
              "      <td>2012</td>\n",
              "      <td>_MISSING_</td>\n",
              "      <td>320</td>\n",
              "    </tr>\n",
              "    <tr>\n",
              "      <th>2120</th>\n",
              "      <td>40580</td>\n",
              "      <td>Women</td>\n",
              "      <td>Apparel</td>\n",
              "      <td>Topwear</td>\n",
              "      <td>Tops</td>\n",
              "      <td>Summer</td>\n",
              "      <td>2012</td>\n",
              "      <td>Casual</td>\n",
              "      <td>81</td>\n",
              "    </tr>\n",
              "    <tr>\n",
              "      <th>2121</th>\n",
              "      <td>33072</td>\n",
              "      <td>Men</td>\n",
              "      <td>Apparel</td>\n",
              "      <td>Topwear</td>\n",
              "      <td>Tshirts</td>\n",
              "      <td>Summer</td>\n",
              "      <td>2012</td>\n",
              "      <td>Casual</td>\n",
              "      <td>788</td>\n",
              "    </tr>\n",
              "    <tr>\n",
              "      <th>2122</th>\n",
              "      <td>25117</td>\n",
              "      <td>Women</td>\n",
              "      <td>Accessories</td>\n",
              "      <td>Bags</td>\n",
              "      <td>Clutches</td>\n",
              "      <td>Winter</td>\n",
              "      <td>2015</td>\n",
              "      <td>Casual</td>\n",
              "      <td>290</td>\n",
              "    </tr>\n",
              "    <tr>\n",
              "      <th>2124</th>\n",
              "      <td>41452</td>\n",
              "      <td>Men</td>\n",
              "      <td>Footwear</td>\n",
              "      <td>Shoes</td>\n",
              "      <td>Casual Shoes</td>\n",
              "      <td>Summer</td>\n",
              "      <td>2012</td>\n",
              "      <td>Casual</td>\n",
              "      <td>613</td>\n",
              "    </tr>\n",
              "    <tr>\n",
              "      <th>2125</th>\n",
              "      <td>27224</td>\n",
              "      <td>Women</td>\n",
              "      <td>Apparel</td>\n",
              "      <td>Dress</td>\n",
              "      <td>Dresses</td>\n",
              "      <td>Summer</td>\n",
              "      <td>2012</td>\n",
              "      <td>Casual</td>\n",
              "      <td>813</td>\n",
              "    </tr>\n",
              "    <tr>\n",
              "      <th>2126</th>\n",
              "      <td>30293</td>\n",
              "      <td>Men</td>\n",
              "      <td>Apparel</td>\n",
              "      <td>Topwear</td>\n",
              "      <td>Tshirts</td>\n",
              "      <td>Summer</td>\n",
              "      <td>2012</td>\n",
              "      <td>Casual</td>\n",
              "      <td>220</td>\n",
              "    </tr>\n",
              "    <tr>\n",
              "      <th>2127</th>\n",
              "      <td>3594</td>\n",
              "      <td>Men</td>\n",
              "      <td>Footwear</td>\n",
              "      <td>Shoes</td>\n",
              "      <td>Casual Shoes</td>\n",
              "      <td>Summer</td>\n",
              "      <td>2011</td>\n",
              "      <td>Casual</td>\n",
              "      <td>835</td>\n",
              "    </tr>\n",
              "    <tr>\n",
              "      <th>2128</th>\n",
              "      <td>7908</td>\n",
              "      <td>Men</td>\n",
              "      <td>Apparel</td>\n",
              "      <td>Topwear</td>\n",
              "      <td>Tshirts</td>\n",
              "      <td>Fall</td>\n",
              "      <td>2012</td>\n",
              "      <td>Casual</td>\n",
              "      <td>65</td>\n",
              "    </tr>\n",
              "    <tr>\n",
              "      <th>2129</th>\n",
              "      <td>34633</td>\n",
              "      <td>Men</td>\n",
              "      <td>Footwear</td>\n",
              "      <td>Shoes</td>\n",
              "      <td>Sports Shoes</td>\n",
              "      <td>Summer</td>\n",
              "      <td>2012</td>\n",
              "      <td>Sports</td>\n",
              "      <td>353</td>\n",
              "    </tr>\n",
              "  </tbody>\n",
              "</table>\n",
              "</div>\n",
              "    <div class=\"colab-df-buttons\">\n",
              "\n",
              "  <div class=\"colab-df-container\">\n",
              "    <button class=\"colab-df-convert\" onclick=\"convertToInteractive('df-e99ab22e-39a2-4f03-860c-8700c50488e4')\"\n",
              "            title=\"Convert this dataframe to an interactive table.\"\n",
              "            style=\"display:none;\">\n",
              "\n",
              "  <svg xmlns=\"http://www.w3.org/2000/svg\" height=\"24px\" viewBox=\"0 -960 960 960\">\n",
              "    <path d=\"M120-120v-720h720v720H120Zm60-500h600v-160H180v160Zm220 220h160v-160H400v160Zm0 220h160v-160H400v160ZM180-400h160v-160H180v160Zm440 0h160v-160H620v160ZM180-180h160v-160H180v160Zm440 0h160v-160H620v160Z\"/>\n",
              "  </svg>\n",
              "    </button>\n",
              "\n",
              "  <style>\n",
              "    .colab-df-container {\n",
              "      display:flex;\n",
              "      gap: 12px;\n",
              "    }\n",
              "\n",
              "    .colab-df-convert {\n",
              "      background-color: #E8F0FE;\n",
              "      border: none;\n",
              "      border-radius: 50%;\n",
              "      cursor: pointer;\n",
              "      display: none;\n",
              "      fill: #1967D2;\n",
              "      height: 32px;\n",
              "      padding: 0 0 0 0;\n",
              "      width: 32px;\n",
              "    }\n",
              "\n",
              "    .colab-df-convert:hover {\n",
              "      background-color: #E2EBFA;\n",
              "      box-shadow: 0px 1px 2px rgba(60, 64, 67, 0.3), 0px 1px 3px 1px rgba(60, 64, 67, 0.15);\n",
              "      fill: #174EA6;\n",
              "    }\n",
              "\n",
              "    .colab-df-buttons div {\n",
              "      margin-bottom: 4px;\n",
              "    }\n",
              "\n",
              "    [theme=dark] .colab-df-convert {\n",
              "      background-color: #3B4455;\n",
              "      fill: #D2E3FC;\n",
              "    }\n",
              "\n",
              "    [theme=dark] .colab-df-convert:hover {\n",
              "      background-color: #434B5C;\n",
              "      box-shadow: 0px 1px 3px 1px rgba(0, 0, 0, 0.15);\n",
              "      filter: drop-shadow(0px 1px 2px rgba(0, 0, 0, 0.3));\n",
              "      fill: #FFFFFF;\n",
              "    }\n",
              "  </style>\n",
              "\n",
              "    <script>\n",
              "      const buttonEl =\n",
              "        document.querySelector('#df-e99ab22e-39a2-4f03-860c-8700c50488e4 button.colab-df-convert');\n",
              "      buttonEl.style.display =\n",
              "        google.colab.kernel.accessAllowed ? 'block' : 'none';\n",
              "\n",
              "      async function convertToInteractive(key) {\n",
              "        const element = document.querySelector('#df-e99ab22e-39a2-4f03-860c-8700c50488e4');\n",
              "        const dataTable =\n",
              "          await google.colab.kernel.invokeFunction('convertToInteractive',\n",
              "                                                    [key], {});\n",
              "        if (!dataTable) return;\n",
              "\n",
              "        const docLinkHtml = 'Like what you see? Visit the ' +\n",
              "          '<a target=\"_blank\" href=https://colab.research.google.com/notebooks/data_table.ipynb>data table notebook</a>'\n",
              "          + ' to learn more about interactive tables.';\n",
              "        element.innerHTML = '';\n",
              "        dataTable['output_type'] = 'display_data';\n",
              "        await google.colab.output.renderOutput(dataTable, element);\n",
              "        const docLink = document.createElement('div');\n",
              "        docLink.innerHTML = docLinkHtml;\n",
              "        element.appendChild(docLink);\n",
              "      }\n",
              "    </script>\n",
              "  </div>\n",
              "\n",
              "\n",
              "<div id=\"df-8de79d98-4d62-43d8-a7ce-63149b35d252\">\n",
              "  <button class=\"colab-df-quickchart\" onclick=\"quickchart('df-8de79d98-4d62-43d8-a7ce-63149b35d252')\"\n",
              "            title=\"Suggest charts.\"\n",
              "            style=\"display:none;\">\n",
              "\n",
              "<svg xmlns=\"http://www.w3.org/2000/svg\" height=\"24px\"viewBox=\"0 0 24 24\"\n",
              "     width=\"24px\">\n",
              "    <g>\n",
              "        <path d=\"M19 3H5c-1.1 0-2 .9-2 2v14c0 1.1.9 2 2 2h14c1.1 0 2-.9 2-2V5c0-1.1-.9-2-2-2zM9 17H7v-7h2v7zm4 0h-2V7h2v10zm4 0h-2v-4h2v4z\"/>\n",
              "    </g>\n",
              "</svg>\n",
              "  </button>\n",
              "\n",
              "<style>\n",
              "  .colab-df-quickchart {\n",
              "      --bg-color: #E8F0FE;\n",
              "      --fill-color: #1967D2;\n",
              "      --hover-bg-color: #E2EBFA;\n",
              "      --hover-fill-color: #174EA6;\n",
              "      --disabled-fill-color: #AAA;\n",
              "      --disabled-bg-color: #DDD;\n",
              "  }\n",
              "\n",
              "  [theme=dark] .colab-df-quickchart {\n",
              "      --bg-color: #3B4455;\n",
              "      --fill-color: #D2E3FC;\n",
              "      --hover-bg-color: #434B5C;\n",
              "      --hover-fill-color: #FFFFFF;\n",
              "      --disabled-bg-color: #3B4455;\n",
              "      --disabled-fill-color: #666;\n",
              "  }\n",
              "\n",
              "  .colab-df-quickchart {\n",
              "    background-color: var(--bg-color);\n",
              "    border: none;\n",
              "    border-radius: 50%;\n",
              "    cursor: pointer;\n",
              "    display: none;\n",
              "    fill: var(--fill-color);\n",
              "    height: 32px;\n",
              "    padding: 0;\n",
              "    width: 32px;\n",
              "  }\n",
              "\n",
              "  .colab-df-quickchart:hover {\n",
              "    background-color: var(--hover-bg-color);\n",
              "    box-shadow: 0 1px 2px rgba(60, 64, 67, 0.3), 0 1px 3px 1px rgba(60, 64, 67, 0.15);\n",
              "    fill: var(--button-hover-fill-color);\n",
              "  }\n",
              "\n",
              "  .colab-df-quickchart-complete:disabled,\n",
              "  .colab-df-quickchart-complete:disabled:hover {\n",
              "    background-color: var(--disabled-bg-color);\n",
              "    fill: var(--disabled-fill-color);\n",
              "    box-shadow: none;\n",
              "  }\n",
              "\n",
              "  .colab-df-spinner {\n",
              "    border: 2px solid var(--fill-color);\n",
              "    border-color: transparent;\n",
              "    border-bottom-color: var(--fill-color);\n",
              "    animation:\n",
              "      spin 1s steps(1) infinite;\n",
              "  }\n",
              "\n",
              "  @keyframes spin {\n",
              "    0% {\n",
              "      border-color: transparent;\n",
              "      border-bottom-color: var(--fill-color);\n",
              "      border-left-color: var(--fill-color);\n",
              "    }\n",
              "    20% {\n",
              "      border-color: transparent;\n",
              "      border-left-color: var(--fill-color);\n",
              "      border-top-color: var(--fill-color);\n",
              "    }\n",
              "    30% {\n",
              "      border-color: transparent;\n",
              "      border-left-color: var(--fill-color);\n",
              "      border-top-color: var(--fill-color);\n",
              "      border-right-color: var(--fill-color);\n",
              "    }\n",
              "    40% {\n",
              "      border-color: transparent;\n",
              "      border-right-color: var(--fill-color);\n",
              "      border-top-color: var(--fill-color);\n",
              "    }\n",
              "    60% {\n",
              "      border-color: transparent;\n",
              "      border-right-color: var(--fill-color);\n",
              "    }\n",
              "    80% {\n",
              "      border-color: transparent;\n",
              "      border-right-color: var(--fill-color);\n",
              "      border-bottom-color: var(--fill-color);\n",
              "    }\n",
              "    90% {\n",
              "      border-color: transparent;\n",
              "      border-bottom-color: var(--fill-color);\n",
              "    }\n",
              "  }\n",
              "</style>\n",
              "\n",
              "  <script>\n",
              "    async function quickchart(key) {\n",
              "      const quickchartButtonEl =\n",
              "        document.querySelector('#' + key + ' button');\n",
              "      quickchartButtonEl.disabled = true;  // To prevent multiple clicks.\n",
              "      quickchartButtonEl.classList.add('colab-df-spinner');\n",
              "      try {\n",
              "        const charts = await google.colab.kernel.invokeFunction(\n",
              "            'suggestCharts', [key], {});\n",
              "      } catch (error) {\n",
              "        console.error('Error during call to suggestCharts:', error);\n",
              "      }\n",
              "      quickchartButtonEl.classList.remove('colab-df-spinner');\n",
              "      quickchartButtonEl.classList.add('colab-df-quickchart-complete');\n",
              "    }\n",
              "    (() => {\n",
              "      let quickchartButtonEl =\n",
              "        document.querySelector('#df-8de79d98-4d62-43d8-a7ce-63149b35d252 button');\n",
              "      quickchartButtonEl.style.display =\n",
              "        google.colab.kernel.accessAllowed ? 'block' : 'none';\n",
              "    })();\n",
              "  </script>\n",
              "</div>\n",
              "    </div>\n",
              "  </div>\n"
            ]
          },
          "metadata": {},
          "execution_count": 15
        }
      ]
    },
    {
      "cell_type": "markdown",
      "source": [
        "# 3.d. Verificar valores duplicados"
      ],
      "metadata": {
        "id": "rYJW2lBcWvHY"
      }
    },
    {
      "cell_type": "code",
      "source": [
        "df.duplicated().sum()"
      ],
      "metadata": {
        "colab": {
          "base_uri": "https://localhost:8080/"
        },
        "id": "RwNCdNhDW0aI",
        "outputId": "c3f101da-97de-4c7e-c245-1ad35e21cb15"
      },
      "execution_count": 16,
      "outputs": [
        {
          "output_type": "execute_result",
          "data": {
            "text/plain": [
              "0"
            ]
          },
          "metadata": {},
          "execution_count": 16
        }
      ]
    },
    {
      "cell_type": "markdown",
      "source": [
        "#3.e. Índice principal\n",
        "\n",
        "A su vez se coloca como índice principal a la columna 'id' (n° del producto) con el fin de evitar tener dos clumnas con id, una asignada por defecto y la otra como número de producto."
      ],
      "metadata": {
        "id": "PaKzK9Yl7i40"
      }
    },
    {
      "cell_type": "code",
      "source": [
        "df.rename(columns={'id[0]':'product_id'}, inplace=True)\n",
        "df.head()"
      ],
      "metadata": {
        "id": "VsNgFVSXdhRi",
        "colab": {
          "base_uri": "https://localhost:8080/",
          "height": 206
        },
        "outputId": "fa85d080-b0ba-426e-fe8b-0986814a0982"
      },
      "execution_count": 17,
      "outputs": [
        {
          "output_type": "execute_result",
          "data": {
            "text/plain": [
              "      id gender masterCategory subCategory  articleType  season  year   usage  \\\n",
              "0  15970    Men        Apparel     Topwear       Shirts    Fall  2011  Casual   \n",
              "1  39386    Men        Apparel  Bottomwear        Jeans  Summer  2012  Casual   \n",
              "3  21379    Men        Apparel  Bottomwear  Track Pants    Fall  2011  Casual   \n",
              "4  53759    Men        Apparel     Topwear      Tshirts  Summer  2012  Casual   \n",
              "5   1855    Men        Apparel     Topwear      Tshirts  Summer  2011  Casual   \n",
              "\n",
              "   price in dolars  \n",
              "0              323  \n",
              "1              161  \n",
              "3               55  \n",
              "4              209  \n",
              "5              128  "
            ],
            "text/html": [
              "\n",
              "  <div id=\"df-b3f5383e-e73b-42e3-9853-02f22680c865\" class=\"colab-df-container\">\n",
              "    <div>\n",
              "<style scoped>\n",
              "    .dataframe tbody tr th:only-of-type {\n",
              "        vertical-align: middle;\n",
              "    }\n",
              "\n",
              "    .dataframe tbody tr th {\n",
              "        vertical-align: top;\n",
              "    }\n",
              "\n",
              "    .dataframe thead th {\n",
              "        text-align: right;\n",
              "    }\n",
              "</style>\n",
              "<table border=\"1\" class=\"dataframe\">\n",
              "  <thead>\n",
              "    <tr style=\"text-align: right;\">\n",
              "      <th></th>\n",
              "      <th>id</th>\n",
              "      <th>gender</th>\n",
              "      <th>masterCategory</th>\n",
              "      <th>subCategory</th>\n",
              "      <th>articleType</th>\n",
              "      <th>season</th>\n",
              "      <th>year</th>\n",
              "      <th>usage</th>\n",
              "      <th>price in dolars</th>\n",
              "    </tr>\n",
              "  </thead>\n",
              "  <tbody>\n",
              "    <tr>\n",
              "      <th>0</th>\n",
              "      <td>15970</td>\n",
              "      <td>Men</td>\n",
              "      <td>Apparel</td>\n",
              "      <td>Topwear</td>\n",
              "      <td>Shirts</td>\n",
              "      <td>Fall</td>\n",
              "      <td>2011</td>\n",
              "      <td>Casual</td>\n",
              "      <td>323</td>\n",
              "    </tr>\n",
              "    <tr>\n",
              "      <th>1</th>\n",
              "      <td>39386</td>\n",
              "      <td>Men</td>\n",
              "      <td>Apparel</td>\n",
              "      <td>Bottomwear</td>\n",
              "      <td>Jeans</td>\n",
              "      <td>Summer</td>\n",
              "      <td>2012</td>\n",
              "      <td>Casual</td>\n",
              "      <td>161</td>\n",
              "    </tr>\n",
              "    <tr>\n",
              "      <th>3</th>\n",
              "      <td>21379</td>\n",
              "      <td>Men</td>\n",
              "      <td>Apparel</td>\n",
              "      <td>Bottomwear</td>\n",
              "      <td>Track Pants</td>\n",
              "      <td>Fall</td>\n",
              "      <td>2011</td>\n",
              "      <td>Casual</td>\n",
              "      <td>55</td>\n",
              "    </tr>\n",
              "    <tr>\n",
              "      <th>4</th>\n",
              "      <td>53759</td>\n",
              "      <td>Men</td>\n",
              "      <td>Apparel</td>\n",
              "      <td>Topwear</td>\n",
              "      <td>Tshirts</td>\n",
              "      <td>Summer</td>\n",
              "      <td>2012</td>\n",
              "      <td>Casual</td>\n",
              "      <td>209</td>\n",
              "    </tr>\n",
              "    <tr>\n",
              "      <th>5</th>\n",
              "      <td>1855</td>\n",
              "      <td>Men</td>\n",
              "      <td>Apparel</td>\n",
              "      <td>Topwear</td>\n",
              "      <td>Tshirts</td>\n",
              "      <td>Summer</td>\n",
              "      <td>2011</td>\n",
              "      <td>Casual</td>\n",
              "      <td>128</td>\n",
              "    </tr>\n",
              "  </tbody>\n",
              "</table>\n",
              "</div>\n",
              "    <div class=\"colab-df-buttons\">\n",
              "\n",
              "  <div class=\"colab-df-container\">\n",
              "    <button class=\"colab-df-convert\" onclick=\"convertToInteractive('df-b3f5383e-e73b-42e3-9853-02f22680c865')\"\n",
              "            title=\"Convert this dataframe to an interactive table.\"\n",
              "            style=\"display:none;\">\n",
              "\n",
              "  <svg xmlns=\"http://www.w3.org/2000/svg\" height=\"24px\" viewBox=\"0 -960 960 960\">\n",
              "    <path d=\"M120-120v-720h720v720H120Zm60-500h600v-160H180v160Zm220 220h160v-160H400v160Zm0 220h160v-160H400v160ZM180-400h160v-160H180v160Zm440 0h160v-160H620v160ZM180-180h160v-160H180v160Zm440 0h160v-160H620v160Z\"/>\n",
              "  </svg>\n",
              "    </button>\n",
              "\n",
              "  <style>\n",
              "    .colab-df-container {\n",
              "      display:flex;\n",
              "      gap: 12px;\n",
              "    }\n",
              "\n",
              "    .colab-df-convert {\n",
              "      background-color: #E8F0FE;\n",
              "      border: none;\n",
              "      border-radius: 50%;\n",
              "      cursor: pointer;\n",
              "      display: none;\n",
              "      fill: #1967D2;\n",
              "      height: 32px;\n",
              "      padding: 0 0 0 0;\n",
              "      width: 32px;\n",
              "    }\n",
              "\n",
              "    .colab-df-convert:hover {\n",
              "      background-color: #E2EBFA;\n",
              "      box-shadow: 0px 1px 2px rgba(60, 64, 67, 0.3), 0px 1px 3px 1px rgba(60, 64, 67, 0.15);\n",
              "      fill: #174EA6;\n",
              "    }\n",
              "\n",
              "    .colab-df-buttons div {\n",
              "      margin-bottom: 4px;\n",
              "    }\n",
              "\n",
              "    [theme=dark] .colab-df-convert {\n",
              "      background-color: #3B4455;\n",
              "      fill: #D2E3FC;\n",
              "    }\n",
              "\n",
              "    [theme=dark] .colab-df-convert:hover {\n",
              "      background-color: #434B5C;\n",
              "      box-shadow: 0px 1px 3px 1px rgba(0, 0, 0, 0.15);\n",
              "      filter: drop-shadow(0px 1px 2px rgba(0, 0, 0, 0.3));\n",
              "      fill: #FFFFFF;\n",
              "    }\n",
              "  </style>\n",
              "\n",
              "    <script>\n",
              "      const buttonEl =\n",
              "        document.querySelector('#df-b3f5383e-e73b-42e3-9853-02f22680c865 button.colab-df-convert');\n",
              "      buttonEl.style.display =\n",
              "        google.colab.kernel.accessAllowed ? 'block' : 'none';\n",
              "\n",
              "      async function convertToInteractive(key) {\n",
              "        const element = document.querySelector('#df-b3f5383e-e73b-42e3-9853-02f22680c865');\n",
              "        const dataTable =\n",
              "          await google.colab.kernel.invokeFunction('convertToInteractive',\n",
              "                                                    [key], {});\n",
              "        if (!dataTable) return;\n",
              "\n",
              "        const docLinkHtml = 'Like what you see? Visit the ' +\n",
              "          '<a target=\"_blank\" href=https://colab.research.google.com/notebooks/data_table.ipynb>data table notebook</a>'\n",
              "          + ' to learn more about interactive tables.';\n",
              "        element.innerHTML = '';\n",
              "        dataTable['output_type'] = 'display_data';\n",
              "        await google.colab.output.renderOutput(dataTable, element);\n",
              "        const docLink = document.createElement('div');\n",
              "        docLink.innerHTML = docLinkHtml;\n",
              "        element.appendChild(docLink);\n",
              "      }\n",
              "    </script>\n",
              "  </div>\n",
              "\n",
              "\n",
              "<div id=\"df-1c4a7bd7-a34d-4a78-a2f0-d4703599a6f1\">\n",
              "  <button class=\"colab-df-quickchart\" onclick=\"quickchart('df-1c4a7bd7-a34d-4a78-a2f0-d4703599a6f1')\"\n",
              "            title=\"Suggest charts.\"\n",
              "            style=\"display:none;\">\n",
              "\n",
              "<svg xmlns=\"http://www.w3.org/2000/svg\" height=\"24px\"viewBox=\"0 0 24 24\"\n",
              "     width=\"24px\">\n",
              "    <g>\n",
              "        <path d=\"M19 3H5c-1.1 0-2 .9-2 2v14c0 1.1.9 2 2 2h14c1.1 0 2-.9 2-2V5c0-1.1-.9-2-2-2zM9 17H7v-7h2v7zm4 0h-2V7h2v10zm4 0h-2v-4h2v4z\"/>\n",
              "    </g>\n",
              "</svg>\n",
              "  </button>\n",
              "\n",
              "<style>\n",
              "  .colab-df-quickchart {\n",
              "      --bg-color: #E8F0FE;\n",
              "      --fill-color: #1967D2;\n",
              "      --hover-bg-color: #E2EBFA;\n",
              "      --hover-fill-color: #174EA6;\n",
              "      --disabled-fill-color: #AAA;\n",
              "      --disabled-bg-color: #DDD;\n",
              "  }\n",
              "\n",
              "  [theme=dark] .colab-df-quickchart {\n",
              "      --bg-color: #3B4455;\n",
              "      --fill-color: #D2E3FC;\n",
              "      --hover-bg-color: #434B5C;\n",
              "      --hover-fill-color: #FFFFFF;\n",
              "      --disabled-bg-color: #3B4455;\n",
              "      --disabled-fill-color: #666;\n",
              "  }\n",
              "\n",
              "  .colab-df-quickchart {\n",
              "    background-color: var(--bg-color);\n",
              "    border: none;\n",
              "    border-radius: 50%;\n",
              "    cursor: pointer;\n",
              "    display: none;\n",
              "    fill: var(--fill-color);\n",
              "    height: 32px;\n",
              "    padding: 0;\n",
              "    width: 32px;\n",
              "  }\n",
              "\n",
              "  .colab-df-quickchart:hover {\n",
              "    background-color: var(--hover-bg-color);\n",
              "    box-shadow: 0 1px 2px rgba(60, 64, 67, 0.3), 0 1px 3px 1px rgba(60, 64, 67, 0.15);\n",
              "    fill: var(--button-hover-fill-color);\n",
              "  }\n",
              "\n",
              "  .colab-df-quickchart-complete:disabled,\n",
              "  .colab-df-quickchart-complete:disabled:hover {\n",
              "    background-color: var(--disabled-bg-color);\n",
              "    fill: var(--disabled-fill-color);\n",
              "    box-shadow: none;\n",
              "  }\n",
              "\n",
              "  .colab-df-spinner {\n",
              "    border: 2px solid var(--fill-color);\n",
              "    border-color: transparent;\n",
              "    border-bottom-color: var(--fill-color);\n",
              "    animation:\n",
              "      spin 1s steps(1) infinite;\n",
              "  }\n",
              "\n",
              "  @keyframes spin {\n",
              "    0% {\n",
              "      border-color: transparent;\n",
              "      border-bottom-color: var(--fill-color);\n",
              "      border-left-color: var(--fill-color);\n",
              "    }\n",
              "    20% {\n",
              "      border-color: transparent;\n",
              "      border-left-color: var(--fill-color);\n",
              "      border-top-color: var(--fill-color);\n",
              "    }\n",
              "    30% {\n",
              "      border-color: transparent;\n",
              "      border-left-color: var(--fill-color);\n",
              "      border-top-color: var(--fill-color);\n",
              "      border-right-color: var(--fill-color);\n",
              "    }\n",
              "    40% {\n",
              "      border-color: transparent;\n",
              "      border-right-color: var(--fill-color);\n",
              "      border-top-color: var(--fill-color);\n",
              "    }\n",
              "    60% {\n",
              "      border-color: transparent;\n",
              "      border-right-color: var(--fill-color);\n",
              "    }\n",
              "    80% {\n",
              "      border-color: transparent;\n",
              "      border-right-color: var(--fill-color);\n",
              "      border-bottom-color: var(--fill-color);\n",
              "    }\n",
              "    90% {\n",
              "      border-color: transparent;\n",
              "      border-bottom-color: var(--fill-color);\n",
              "    }\n",
              "  }\n",
              "</style>\n",
              "\n",
              "  <script>\n",
              "    async function quickchart(key) {\n",
              "      const quickchartButtonEl =\n",
              "        document.querySelector('#' + key + ' button');\n",
              "      quickchartButtonEl.disabled = true;  // To prevent multiple clicks.\n",
              "      quickchartButtonEl.classList.add('colab-df-spinner');\n",
              "      try {\n",
              "        const charts = await google.colab.kernel.invokeFunction(\n",
              "            'suggestCharts', [key], {});\n",
              "      } catch (error) {\n",
              "        console.error('Error during call to suggestCharts:', error);\n",
              "      }\n",
              "      quickchartButtonEl.classList.remove('colab-df-spinner');\n",
              "      quickchartButtonEl.classList.add('colab-df-quickchart-complete');\n",
              "    }\n",
              "    (() => {\n",
              "      let quickchartButtonEl =\n",
              "        document.querySelector('#df-1c4a7bd7-a34d-4a78-a2f0-d4703599a6f1 button');\n",
              "      quickchartButtonEl.style.display =\n",
              "        google.colab.kernel.accessAllowed ? 'block' : 'none';\n",
              "    })();\n",
              "  </script>\n",
              "</div>\n",
              "    </div>\n",
              "  </div>\n"
            ]
          },
          "metadata": {},
          "execution_count": 17
        }
      ]
    },
    {
      "cell_type": "markdown",
      "source": [
        "# 4.a. Análisis: identificación de artículos\n",
        "\n",
        "Una vez finalizada la etapa de exploración y limpieza se prosigue con la etapa de análisis que puede ser acompañada de recursos visuales para su mejor comprensión. En esta etapa se llevan a cabo los cálculos estadísticos necesarios para comprender los patrones y tendencias de los datos mismos con el objetivo de comprender qué recursos son más solicitados en la industria de la moda. Para comenzar evaluaremos qué productos son los más demandados, qué genero se registra mayormente en las compras de productos y cuál es el precio promedio de los más solicitados."
      ],
      "metadata": {
        "id": "QG_qY_ffSryd"
      }
    },
    {
      "cell_type": "code",
      "source": [
        "#Cuántos tipos de productos tengo?\n",
        "\n",
        "df['articleType'].unique()"
      ],
      "metadata": {
        "colab": {
          "base_uri": "https://localhost:8080/"
        },
        "id": "bcCtmVpRZWUW",
        "outputId": "3e5cb917-7ad5-49d2-cf72-8f5a7f949ce2"
      },
      "execution_count": 18,
      "outputs": [
        {
          "output_type": "execute_result",
          "data": {
            "text/plain": [
              "array(['Shirts', 'Jeans', 'Track Pants', 'Tshirts', 'Socks',\n",
              "       'Casual Shoes', 'Belts', 'Handbags', 'Tops', 'Bra', 'Sweatshirts',\n",
              "       'Formal Shoes', 'Flats', 'Kurtas', 'Waistcoat', 'Sports Shoes',\n",
              "       'Shorts', 'Briefs', 'Heels', 'Innerwear Vests', 'Laptop Bag',\n",
              "       'Scarves', 'Rain Jacket', 'Dresses', 'Skirts', 'Blazers',\n",
              "       'Clutches', 'Shrug', 'Backpacks', 'Caps', 'Trousers', 'Camisoles',\n",
              "       'Boxers', 'Dupatta', 'Capris', 'Tunics', 'Jackets', 'Trunk',\n",
              "       'Duffel Bag', 'Sweaters', 'Trolley Bag', 'Tracksuits', 'Swimwear',\n",
              "       'Leggings', 'Kurtis', 'Mobile Pouch', 'Messenger Bag', 'Jumpsuit',\n",
              "       'Suspenders', 'Salwar and Dupatta', 'Patiala', 'Stockings',\n",
              "       'Headband'], dtype=object)"
            ]
          },
          "metadata": {},
          "execution_count": 18
        }
      ]
    },
    {
      "cell_type": "code",
      "source": [
        "#Para reducir su complejidad en el gráfico se tomará por momento una subcategoría más amplia\n",
        "df['subCategory'].unique()"
      ],
      "metadata": {
        "colab": {
          "base_uri": "https://localhost:8080/"
        },
        "id": "20sQORx5bQi5",
        "outputId": "7b0817b1-10bc-4ca1-b12a-7ed3d53dc547"
      },
      "execution_count": 19,
      "outputs": [
        {
          "output_type": "execute_result",
          "data": {
            "text/plain": [
              "array(['Topwear', 'Bottomwear', 'Socks', 'Shoes', 'Belts', 'Bags',\n",
              "       'Innerwear', 'Scarves', 'Dress', 'Headwear'], dtype=object)"
            ]
          },
          "metadata": {},
          "execution_count": 19
        }
      ]
    },
    {
      "cell_type": "markdown",
      "source": [
        "**Selección de gráfico**\n",
        "\n",
        "Debido a que se trata de muchas categorías, se procede a utilizar el gráfico de barras"
      ],
      "metadata": {
        "id": "d1DlEhHwbxKF"
      }
    },
    {
      "cell_type": "markdown",
      "source": [
        "# 4.b Importación de librería Matplotlib"
      ],
      "metadata": {
        "id": "9MLCUxeqcAhi"
      }
    },
    {
      "cell_type": "code",
      "source": [
        "import matplotlib.pyplot as plt\n",
        "from matplotlib import colors"
      ],
      "metadata": {
        "id": "dqW2KKgLcLz2"
      },
      "execution_count": 20,
      "outputs": []
    },
    {
      "cell_type": "markdown",
      "source": [
        "# 4.c. Gráfico de barras: Distribución de tipos de productos de moda\n",
        "\n",
        "Este gráfico representa la cantidad de productos de moda vendidos en plataformas online. Esto será útil para conocer el tipo de productos con mayor demanda y orientar o reforzar la productividad de los mismos."
      ],
      "metadata": {
        "id": "w_WL35PKcdlu"
      }
    },
    {
      "cell_type": "code",
      "source": [
        "# Gráfico de barras: Distribución de categorías de productos de moda\n",
        "Tipos_counts = df['subCategory'].value_counts()\n",
        "Tipos_counts"
      ],
      "metadata": {
        "colab": {
          "base_uri": "https://localhost:8080/"
        },
        "id": "hQoqSyPVdBO7",
        "outputId": "889bacf4-5096-44de-bf0e-250c17c6e611"
      },
      "execution_count": 21,
      "outputs": [
        {
          "output_type": "execute_result",
          "data": {
            "text/plain": [
              "Topwear       696\n",
              "Shoes         355\n",
              "Bags          158\n",
              "Bottomwear    130\n",
              "Innerwear      93\n",
              "Belts          45\n",
              "Socks          28\n",
              "Dress          25\n",
              "Headwear       17\n",
              "Scarves         7\n",
              "Name: subCategory, dtype: int64"
            ]
          },
          "metadata": {},
          "execution_count": 21
        }
      ]
    },
    {
      "cell_type": "code",
      "source": [
        "plt.figure(figsize=(8, 6))\n",
        "plt.bar(Tipos_counts.index, Tipos_counts.values, color='pink')\n",
        "plt.xlabel('Categoría')\n",
        "plt.ylabel('Cantidad')\n",
        "plt.title('Distribución de tipos de productos de moda')\n",
        "plt.xticks(rotation=90)\n",
        "plt.show()"
      ],
      "metadata": {
        "colab": {
          "base_uri": "https://localhost:8080/",
          "height": 636
        },
        "id": "hKcgTlhod4ej",
        "outputId": "4f69e1ea-8033-4565-da43-1840a9bf2f3b"
      },
      "execution_count": 22,
      "outputs": [
        {
          "output_type": "display_data",
          "data": {
            "text/plain": [
              "<Figure size 800x600 with 1 Axes>"
            ],
            "image/png": "[encoded data removed]"
          },
          "metadata": {}
        }
      ]
    },
    {
      "cell_type": "markdown",
      "source": [
        "\n",
        "Como es posible observar en el gráfico la mayor cantidad de compras es llevada a cabo por productos 'Topwear', es decir, aquellos que corresponden a la zona superior del cuerpo, seguido por 'Shoes' zapatillas y luego por 'Bags', carteras, en la última posición se encuentran las bufandas (scarves)\n"
      ],
      "metadata": {
        "id": "a_bBFweRg1AP"
      }
    },
    {
      "cell_type": "markdown",
      "source": [
        "Analizamos luego qué género ha realizado más compras de productos de moda en el formato online"
      ],
      "metadata": {
        "id": "7QDqiwy6hDJL"
      }
    },
    {
      "cell_type": "code",
      "source": [
        "moda['gender'].value_counts()"
      ],
      "metadata": {
        "colab": {
          "base_uri": "https://localhost:8080/"
        },
        "id": "zQnDOEZX4s11",
        "outputId": "4c465abd-28a5-405b-cb64-b3532e6cac32"
      },
      "execution_count": 23,
      "outputs": [
        {
          "output_type": "execute_result",
          "data": {
            "text/plain": [
              "Men       1040\n",
              "Women      918\n",
              "Unisex      98\n",
              "Boys        38\n",
              "Girls       36\n",
              "Name: gender, dtype: int64"
            ]
          },
          "metadata": {},
          "execution_count": 23
        }
      ]
    },
    {
      "cell_type": "code",
      "source": [
        "df.loc[:, ['gender', 'subCategory', 'price in dolars']] # Columnas seleccionadas\n",
        "is_male = df.loc[:, 'gender'] == 'Men'\n",
        "df_male = df.loc[is_male]\n",
        "df_male.head(10)"
      ],
      "metadata": {
        "colab": {
          "base_uri": "https://localhost:8080/",
          "height": 363
        },
        "id": "_jV0tvdVf5dr",
        "outputId": "60a830c8-67c1-45a0-9164-bc9e6f1811f0"
      },
      "execution_count": 24,
      "outputs": [
        {
          "output_type": "execute_result",
          "data": {
            "text/plain": [
              "       id gender masterCategory subCategory   articleType  season  year  \\\n",
              "0   15970    Men        Apparel     Topwear        Shirts    Fall  2011   \n",
              "1   39386    Men        Apparel  Bottomwear         Jeans  Summer  2012   \n",
              "3   21379    Men        Apparel  Bottomwear   Track Pants    Fall  2011   \n",
              "4   53759    Men        Apparel     Topwear       Tshirts  Summer  2012   \n",
              "5    1855    Men        Apparel     Topwear       Tshirts  Summer  2011   \n",
              "6   30805    Men        Apparel     Topwear        Shirts  Summer  2012   \n",
              "8   29114    Men    Accessories       Socks         Socks  Summer  2012   \n",
              "10   9204    Men       Footwear       Shoes  Casual Shoes  Summer  2011   \n",
              "15  12369    Men        Apparel     Topwear        Shirts    Fall  2011   \n",
              "23  13089    Men        Apparel     Topwear   Sweatshirts    Fall  2011   \n",
              "\n",
              "     usage  price in dolars  \n",
              "0   Casual              323  \n",
              "1   Casual              161  \n",
              "3   Casual               55  \n",
              "4   Casual              209  \n",
              "5   Casual              128  \n",
              "6   Ethnic               32  \n",
              "8   Casual              700  \n",
              "10  Casual              692  \n",
              "15  Formal              790  \n",
              "23  Sports              555  "
            ],
            "text/html": [
              "\n",
              "  <div id=\"df-c179fe6f-3a51-4a9a-b5cd-a05d52e96151\" class=\"colab-df-container\">\n",
              "    <div>\n",
              "<style scoped>\n",
              "    .dataframe tbody tr th:only-of-type {\n",
              "        vertical-align: middle;\n",
              "    }\n",
              "\n",
              "    .dataframe tbody tr th {\n",
              "        vertical-align: top;\n",
              "    }\n",
              "\n",
              "    .dataframe thead th {\n",
              "        text-align: right;\n",
              "    }\n",
              "</style>\n",
              "<table border=\"1\" class=\"dataframe\">\n",
              "  <thead>\n",
              "    <tr style=\"text-align: right;\">\n",
              "      <th></th>\n",
              "      <th>id</th>\n",
              "      <th>gender</th>\n",
              "      <th>masterCategory</th>\n",
              "      <th>subCategory</th>\n",
              "      <th>articleType</th>\n",
              "      <th>season</th>\n",
              "      <th>year</th>\n",
              "      <th>usage</th>\n",
              "      <th>price in dolars</th>\n",
              "    </tr>\n",
              "  </thead>\n",
              "  <tbody>\n",
              "    <tr>\n",
              "      <th>0</th>\n",
              "      <td>15970</td>\n",
              "      <td>Men</td>\n",
              "      <td>Apparel</td>\n",
              "      <td>Topwear</td>\n",
              "      <td>Shirts</td>\n",
              "      <td>Fall</td>\n",
              "      <td>2011</td>\n",
              "      <td>Casual</td>\n",
              "      <td>323</td>\n",
              "    </tr>\n",
              "    <tr>\n",
              "      <th>1</th>\n",
              "      <td>39386</td>\n",
              "      <td>Men</td>\n",
              "      <td>Apparel</td>\n",
              "      <td>Bottomwear</td>\n",
              "      <td>Jeans</td>\n",
              "      <td>Summer</td>\n",
              "      <td>2012</td>\n",
              "      <td>Casual</td>\n",
              "      <td>161</td>\n",
              "    </tr>\n",
              "    <tr>\n",
              "      <th>3</th>\n",
              "      <td>21379</td>\n",
              "      <td>Men</td>\n",
              "      <td>Apparel</td>\n",
              "      <td>Bottomwear</td>\n",
              "      <td>Track Pants</td>\n",
              "      <td>Fall</td>\n",
              "      <td>2011</td>\n",
              "      <td>Casual</td>\n",
              "      <td>55</td>\n",
              "    </tr>\n",
              "    <tr>\n",
              "      <th>4</th>\n",
              "      <td>53759</td>\n",
              "      <td>Men</td>\n",
              "      <td>Apparel</td>\n",
              "      <td>Topwear</td>\n",
              "      <td>Tshirts</td>\n",
              "      <td>Summer</td>\n",
              "      <td>2012</td>\n",
              "      <td>Casual</td>\n",
              "      <td>209</td>\n",
              "    </tr>\n",
              "    <tr>\n",
              "      <th>5</th>\n",
              "      <td>1855</td>\n",
              "      <td>Men</td>\n",
              "      <td>Apparel</td>\n",
              "      <td>Topwear</td>\n",
              "      <td>Tshirts</td>\n",
              "      <td>Summer</td>\n",
              "      <td>2011</td>\n",
              "      <td>Casual</td>\n",
              "      <td>128</td>\n",
              "    </tr>\n",
              "    <tr>\n",
              "      <th>6</th>\n",
              "      <td>30805</td>\n",
              "      <td>Men</td>\n",
              "      <td>Apparel</td>\n",
              "      <td>Topwear</td>\n",
              "      <td>Shirts</td>\n",
              "      <td>Summer</td>\n",
              "      <td>2012</td>\n",
              "      <td>Ethnic</td>\n",
              "      <td>32</td>\n",
              "    </tr>\n",
              "    <tr>\n",
              "      <th>8</th>\n",
              "      <td>29114</td>\n",
              "      <td>Men</td>\n",
              "      <td>Accessories</td>\n",
              "      <td>Socks</td>\n",
              "      <td>Socks</td>\n",
              "      <td>Summer</td>\n",
              "      <td>2012</td>\n",
              "      <td>Casual</td>\n",
              "      <td>700</td>\n",
              "    </tr>\n",
              "    <tr>\n",
              "      <th>10</th>\n",
              "      <td>9204</td>\n",
              "      <td>Men</td>\n",
              "      <td>Footwear</td>\n",
              "      <td>Shoes</td>\n",
              "      <td>Casual Shoes</td>\n",
              "      <td>Summer</td>\n",
              "      <td>2011</td>\n",
              "      <td>Casual</td>\n",
              "      <td>692</td>\n",
              "    </tr>\n",
              "    <tr>\n",
              "      <th>15</th>\n",
              "      <td>12369</td>\n",
              "      <td>Men</td>\n",
              "      <td>Apparel</td>\n",
              "      <td>Topwear</td>\n",
              "      <td>Shirts</td>\n",
              "      <td>Fall</td>\n",
              "      <td>2011</td>\n",
              "      <td>Formal</td>\n",
              "      <td>790</td>\n",
              "    </tr>\n",
              "    <tr>\n",
              "      <th>23</th>\n",
              "      <td>13089</td>\n",
              "      <td>Men</td>\n",
              "      <td>Apparel</td>\n",
              "      <td>Topwear</td>\n",
              "      <td>Sweatshirts</td>\n",
              "      <td>Fall</td>\n",
              "      <td>2011</td>\n",
              "      <td>Sports</td>\n",
              "      <td>555</td>\n",
              "    </tr>\n",
              "  </tbody>\n",
              "</table>\n",
              "</div>\n",
              "    <div class=\"colab-df-buttons\">\n",
              "\n",
              "  <div class=\"colab-df-container\">\n",
              "    <button class=\"colab-df-convert\" onclick=\"convertToInteractive('df-c179fe6f-3a51-4a9a-b5cd-a05d52e96151')\"\n",
              "            title=\"Convert this dataframe to an interactive table.\"\n",
              "            style=\"display:none;\">\n",
              "\n",
              "  <svg xmlns=\"http://www.w3.org/2000/svg\" height=\"24px\" viewBox=\"0 -960 960 960\">\n",
              "    <path d=\"M120-120v-720h720v720H120Zm60-500h600v-160H180v160Zm220 220h160v-160H400v160Zm0 220h160v-160H400v160ZM180-400h160v-160H180v160Zm440 0h160v-160H620v160ZM180-180h160v-160H180v160Zm440 0h160v-160H620v160Z\"/>\n",
              "  </svg>\n",
              "    </button>\n",
              "\n",
              "  <style>\n",
              "    .colab-df-container {\n",
              "      display:flex;\n",
              "      gap: 12px;\n",
              "    }\n",
              "\n",
              "    .colab-df-convert {\n",
              "      background-color: #E8F0FE;\n",
              "      border: none;\n",
              "      border-radius: 50%;\n",
              "      cursor: pointer;\n",
              "      display: none;\n",
              "      fill: #1967D2;\n",
              "      height: 32px;\n",
              "      padding: 0 0 0 0;\n",
              "      width: 32px;\n",
              "    }\n",
              "\n",
              "    .colab-df-convert:hover {\n",
              "      background-color: #E2EBFA;\n",
              "      box-shadow: 0px 1px 2px rgba(60, 64, 67, 0.3), 0px 1px 3px 1px rgba(60, 64, 67, 0.15);\n",
              "      fill: #174EA6;\n",
              "    }\n",
              "\n",
              "    .colab-df-buttons div {\n",
              "      margin-bottom: 4px;\n",
              "    }\n",
              "\n",
              "    [theme=dark] .colab-df-convert {\n",
              "      background-color: #3B4455;\n",
              "      fill: #D2E3FC;\n",
              "    }\n",
              "\n",
              "    [theme=dark] .colab-df-convert:hover {\n",
              "      background-color: #434B5C;\n",
              "      box-shadow: 0px 1px 3px 1px rgba(0, 0, 0, 0.15);\n",
              "      filter: drop-shadow(0px 1px 2px rgba(0, 0, 0, 0.3));\n",
              "      fill: #FFFFFF;\n",
              "    }\n",
              "  </style>\n",
              "\n",
              "    <script>\n",
              "      const buttonEl =\n",
              "        document.querySelector('#df-c179fe6f-3a51-4a9a-b5cd-a05d52e96151 button.colab-df-convert');\n",
              "      buttonEl.style.display =\n",
              "        google.colab.kernel.accessAllowed ? 'block' : 'none';\n",
              "\n",
              "      async function convertToInteractive(key) {\n",
              "        const element = document.querySelector('#df-c179fe6f-3a51-4a9a-b5cd-a05d52e96151');\n",
              "        const dataTable =\n",
              "          await google.colab.kernel.invokeFunction('convertToInteractive',\n",
              "                                                    [key], {});\n",
              "        if (!dataTable) return;\n",
              "\n",
              "        const docLinkHtml = 'Like what you see? Visit the ' +\n",
              "          '<a target=\"_blank\" href=https://colab.research.google.com/notebooks/data_table.ipynb>data table notebook</a>'\n",
              "          + ' to learn more about interactive tables.';\n",
              "        element.innerHTML = '';\n",
              "        dataTable['output_type'] = 'display_data';\n",
              "        await google.colab.output.renderOutput(dataTable, element);\n",
              "        const docLink = document.createElement('div');\n",
              "        docLink.innerHTML = docLinkHtml;\n",
              "        element.appendChild(docLink);\n",
              "      }\n",
              "    </script>\n",
              "  </div>\n",
              "\n",
              "\n",
              "<div id=\"df-bc52741d-47f6-49d0-8cec-f30a46ecedd7\">\n",
              "  <button class=\"colab-df-quickchart\" onclick=\"quickchart('df-bc52741d-47f6-49d0-8cec-f30a46ecedd7')\"\n",
              "            title=\"Suggest charts.\"\n",
              "            style=\"display:none;\">\n",
              "\n",
              "<svg xmlns=\"http://www.w3.org/2000/svg\" height=\"24px\"viewBox=\"0 0 24 24\"\n",
              "     width=\"24px\">\n",
              "    <g>\n",
              "        <path d=\"M19 3H5c-1.1 0-2 .9-2 2v14c0 1.1.9 2 2 2h14c1.1 0 2-.9 2-2V5c0-1.1-.9-2-2-2zM9 17H7v-7h2v7zm4 0h-2V7h2v10zm4 0h-2v-4h2v4z\"/>\n",
              "    </g>\n",
              "</svg>\n",
              "  </button>\n",
              "\n",
              "<style>\n",
              "  .colab-df-quickchart {\n",
              "      --bg-color: #E8F0FE;\n",
              "      --fill-color: #1967D2;\n",
              "      --hover-bg-color: #E2EBFA;\n",
              "      --hover-fill-color: #174EA6;\n",
              "      --disabled-fill-color: #AAA;\n",
              "      --disabled-bg-color: #DDD;\n",
              "  }\n",
              "\n",
              "  [theme=dark] .colab-df-quickchart {\n",
              "      --bg-color: #3B4455;\n",
              "      --fill-color: #D2E3FC;\n",
              "      --hover-bg-color: #434B5C;\n",
              "      --hover-fill-color: #FFFFFF;\n",
              "      --disabled-bg-color: #3B4455;\n",
              "      --disabled-fill-color: #666;\n",
              "  }\n",
              "\n",
              "  .colab-df-quickchart {\n",
              "    background-color: var(--bg-color);\n",
              "    border: none;\n",
              "    border-radius: 50%;\n",
              "    cursor: pointer;\n",
              "    display: none;\n",
              "    fill: var(--fill-color);\n",
              "    height: 32px;\n",
              "    padding: 0;\n",
              "    width: 32px;\n",
              "  }\n",
              "\n",
              "  .colab-df-quickchart:hover {\n",
              "    background-color: var(--hover-bg-color);\n",
              "    box-shadow: 0 1px 2px rgba(60, 64, 67, 0.3), 0 1px 3px 1px rgba(60, 64, 67, 0.15);\n",
              "    fill: var(--button-hover-fill-color);\n",
              "  }\n",
              "\n",
              "  .colab-df-quickchart-complete:disabled,\n",
              "  .colab-df-quickchart-complete:disabled:hover {\n",
              "    background-color: var(--disabled-bg-color);\n",
              "    fill: var(--disabled-fill-color);\n",
              "    box-shadow: none;\n",
              "  }\n",
              "\n",
              "  .colab-df-spinner {\n",
              "    border: 2px solid var(--fill-color);\n",
              "    border-color: transparent;\n",
              "    border-bottom-color: var(--fill-color);\n",
              "    animation:\n",
              "      spin 1s steps(1) infinite;\n",
              "  }\n",
              "\n",
              "  @keyframes spin {\n",
              "    0% {\n",
              "      border-color: transparent;\n",
              "      border-bottom-color: var(--fill-color);\n",
              "      border-left-color: var(--fill-color);\n",
              "    }\n",
              "    20% {\n",
              "      border-color: transparent;\n",
              "      border-left-color: var(--fill-color);\n",
              "      border-top-color: var(--fill-color);\n",
              "    }\n",
              "    30% {\n",
              "      border-color: transparent;\n",
              "      border-left-color: var(--fill-color);\n",
              "      border-top-color: var(--fill-color);\n",
              "      border-right-color: var(--fill-color);\n",
              "    }\n",
              "    40% {\n",
              "      border-color: transparent;\n",
              "      border-right-color: var(--fill-color);\n",
              "      border-top-color: var(--fill-color);\n",
              "    }\n",
              "    60% {\n",
              "      border-color: transparent;\n",
              "      border-right-color: var(--fill-color);\n",
              "    }\n",
              "    80% {\n",
              "      border-color: transparent;\n",
              "      border-right-color: var(--fill-color);\n",
              "      border-bottom-color: var(--fill-color);\n",
              "    }\n",
              "    90% {\n",
              "      border-color: transparent;\n",
              "      border-bottom-color: var(--fill-color);\n",
              "    }\n",
              "  }\n",
              "</style>\n",
              "\n",
              "  <script>\n",
              "    async function quickchart(key) {\n",
              "      const quickchartButtonEl =\n",
              "        document.querySelector('#' + key + ' button');\n",
              "      quickchartButtonEl.disabled = true;  // To prevent multiple clicks.\n",
              "      quickchartButtonEl.classList.add('colab-df-spinner');\n",
              "      try {\n",
              "        const charts = await google.colab.kernel.invokeFunction(\n",
              "            'suggestCharts', [key], {});\n",
              "      } catch (error) {\n",
              "        console.error('Error during call to suggestCharts:', error);\n",
              "      }\n",
              "      quickchartButtonEl.classList.remove('colab-df-spinner');\n",
              "      quickchartButtonEl.classList.add('colab-df-quickchart-complete');\n",
              "    }\n",
              "    (() => {\n",
              "      let quickchartButtonEl =\n",
              "        document.querySelector('#df-bc52741d-47f6-49d0-8cec-f30a46ecedd7 button');\n",
              "      quickchartButtonEl.style.display =\n",
              "        google.colab.kernel.accessAllowed ? 'block' : 'none';\n",
              "    })();\n",
              "  </script>\n",
              "</div>\n",
              "    </div>\n",
              "  </div>\n"
            ]
          },
          "metadata": {},
          "execution_count": 24
        }
      ]
    },
    {
      "cell_type": "markdown",
      "source": [
        "Una primera aproximación a estos datos nos permiten generar la hipótesis de que el género masculino realiza más compras online que el femenino, una hipótesis alternativa es que el género femenino visita las casa de moda en su formato físico con más frecuencia que el género masculino. Luego nos quedaremos con los cuatro productos más vendidos y las visualizaremos mediante un gráfico circular."
      ],
      "metadata": {
        "id": "5HbZoezwMi09"
      }
    },
    {
      "cell_type": "code",
      "source": [
        "# Procedemos a identificar los datos pertenecientes a la categoría de artículos\n",
        "df['articleType'].unique()"
      ],
      "metadata": {
        "colab": {
          "base_uri": "https://localhost:8080/"
        },
        "id": "glP3dMg5OZkD",
        "outputId": "56b3a759-dd1e-4e62-9d5a-9cceb99736a2"
      },
      "execution_count": 25,
      "outputs": [
        {
          "output_type": "execute_result",
          "data": {
            "text/plain": [
              "array(['Shirts', 'Jeans', 'Track Pants', 'Tshirts', 'Socks',\n",
              "       'Casual Shoes', 'Belts', 'Handbags', 'Tops', 'Bra', 'Sweatshirts',\n",
              "       'Formal Shoes', 'Flats', 'Kurtas', 'Waistcoat', 'Sports Shoes',\n",
              "       'Shorts', 'Briefs', 'Heels', 'Innerwear Vests', 'Laptop Bag',\n",
              "       'Scarves', 'Rain Jacket', 'Dresses', 'Skirts', 'Blazers',\n",
              "       'Clutches', 'Shrug', 'Backpacks', 'Caps', 'Trousers', 'Camisoles',\n",
              "       'Boxers', 'Dupatta', 'Capris', 'Tunics', 'Jackets', 'Trunk',\n",
              "       'Duffel Bag', 'Sweaters', 'Trolley Bag', 'Tracksuits', 'Swimwear',\n",
              "       'Leggings', 'Kurtis', 'Mobile Pouch', 'Messenger Bag', 'Jumpsuit',\n",
              "       'Suspenders', 'Salwar and Dupatta', 'Patiala', 'Stockings',\n",
              "       'Headband'], dtype=object)"
            ]
          },
          "metadata": {},
          "execution_count": 25
        }
      ]
    },
    {
      "cell_type": "code",
      "source": [
        "# En base al gráfico de barras anterior, eliminamos los datos que no corresponden a las categorías con mayor porcentaje (Topwear, Shoes, Bags)\n",
        "\n",
        "df = df[~df['articleType'].isin(['Kurtas', 'Track Pants', 'Patiala', 'Stockings', 'Headband', 'Suspenders',\n",
        "       'Salwar and Dupatta', 'Trolley Bag', 'Tracksuits', 'Swimwear', 'Leggings', 'Kurtis',\n",
        "       'Mobile Pouch', 'Messenger Bag', 'Jumpsuit', 'Heels', 'Belts', 'Tunics', 'Formal Shoes', 'Caps', 'Clutches', 'Sweatshirts', 'Dresses', 'Socks', 'Flats', 'Jeans', 'Briefs', 'Bra', 'Innerwear Vests', 'Jackets', 'Trunk', 'Duffel Bag', 'Sweaters', 'Capris', 'Skirts', 'Trousers', 'Backpacks', 'Shirts', 'Shorts', 'Sports Shoes', 'Laptop Bag', 'Scarves',\n",
        "       'Rain Jacket', 'Dresses', 'Skirts', 'Blazers', 'Clutches', 'Shrug',\n",
        "       'Backpacks', 'Caps', 'Trousers', 'Camisoles', 'Boxers', 'Dupatta', 'Waistcoat', 'Tops'])]"
      ],
      "metadata": {
        "id": "4ngjSqV1OK05"
      },
      "execution_count": 26,
      "outputs": []
    },
    {
      "cell_type": "markdown",
      "source": [
        "# 4.d. Gráfico circular: Distribución de los artículos más vendidos"
      ],
      "metadata": {
        "id": "l6kmNhhRSZRb"
      }
    },
    {
      "cell_type": "code",
      "source": [
        "\n",
        "# Gráfico circular: Proporción de los cuatro productos más vendidos\n",
        "categoria_proporcion = df['articleType'].value_counts() / len(df) * 100\n",
        "plt.figure(figsize=(5, 4))\n",
        "explode = (0, 0, 0, 0.1)\n",
        "colores=['pink', 'plum', 'darkmagenta']\n",
        "plt.pie(categoria_proporcion.values, labels=categoria_proporcion.index, autopct='%0.1f%%', colors=colores, shadow=True, startangle=90)\n",
        "plt.title('Productos de moda más vendidos en e-commerce')\n",
        "plt.axis('equal')\n",
        "plt.show()\n"
      ],
      "metadata": {
        "colab": {
          "base_uri": "https://localhost:8080/",
          "height": 367
        },
        "id": "dQze6a_QNhjA",
        "outputId": "9d778dad-9715-44b8-99a4-ddc36d66a567"
      },
      "execution_count": 27,
      "outputs": [
        {
          "output_type": "display_data",
          "data": {
            "text/plain": [
              "<Figure size 500x400 with 1 Axes>"
            ],
            "image/png": "[encoded data removed]"
          },
          "metadata": {}
        }
      ]
    },
    {
      "cell_type": "code",
      "source": [
        "categoria_proporcion = df['articleType'].value_counts() / len(df) * 100\n",
        "categoria_proporcion"
      ],
      "metadata": {
        "colab": {
          "base_uri": "https://localhost:8080/"
        },
        "id": "jEgRhzFGSCh_",
        "outputId": "d6554e19-e33e-4b87-def4-e01a7347b512"
      },
      "execution_count": 28,
      "outputs": [
        {
          "output_type": "execute_result",
          "data": {
            "text/plain": [
              "Tshirts         57.954545\n",
              "Casual Shoes    24.431818\n",
              "Handbags        17.613636\n",
              "Name: articleType, dtype: float64"
            ]
          },
          "metadata": {},
          "execution_count": 28
        }
      ]
    },
    {
      "cell_type": "markdown",
      "source": [
        "Podemos concluir que de todos los artículos de la zona superior del cuerpo, entre los cuales hay tops, camisas, etc, la categoría de remeras (Tshirts) es el artículo de moda que más se solicita"
      ],
      "metadata": {
        "id": "eLnfauHMSHxA"
      }
    },
    {
      "cell_type": "markdown",
      "source": [
        "# 4.e. Gráfico de barras: Distribución de ventas en el tiempo (de acuerdo al año)"
      ],
      "metadata": {
        "id": "U0GVeKyeSkjq"
      }
    },
    {
      "cell_type": "code",
      "source": [
        "# Como parte del análisis resulta importante obtener el dato no solo del género, área y clase de producto más solicitado\n",
        "# sino también en qué años\n",
        "\n",
        "df['year'].unique()"
      ],
      "metadata": {
        "colab": {
          "base_uri": "https://localhost:8080/"
        },
        "id": "i6Sbc3EQWQ5u",
        "outputId": "afd1464e-5988-43d6-b954-330be7400f0c"
      },
      "execution_count": 29,
      "outputs": [
        {
          "output_type": "execute_result",
          "data": {
            "text/plain": [
              "array([2012, 2011, 2015, 2014, 2010, 2013, 2018, 2016])"
            ]
          },
          "metadata": {},
          "execution_count": 29
        }
      ]
    },
    {
      "cell_type": "code",
      "source": [
        "year_counts = df['year'].value_counts()\n",
        "\n",
        "# Creación del gráfico de barras\n",
        "plt.bar(year_counts.index, year_counts.values, color='pink')\n",
        "\n",
        "# Etiquetas y título\n",
        "\n",
        "plt.xlabel('Año')\n",
        "plt.ylabel('Ventas totales')\n",
        "plt.title('Distribución de Ventas en el tiempo')\n"
      ],
      "metadata": {
        "colab": {
          "base_uri": "https://localhost:8080/",
          "height": 491
        },
        "id": "wCXWJv-XWXlJ",
        "outputId": "5c8a45cc-854e-4135-c5f2-0bfabe3e7d34"
      },
      "execution_count": 30,
      "outputs": [
        {
          "output_type": "execute_result",
          "data": {
            "text/plain": [
              "Text(0.5, 1.0, 'Distribución de Ventas en el tiempo')"
            ]
          },
          "metadata": {},
          "execution_count": 30
        },
        {
          "output_type": "display_data",
          "data": {
            "text/plain": [
              "<Figure size 640x480 with 1 Axes>"
            ],
            "image/png": "[encoded data removed]"
          },
          "metadata": {}
        }
      ]
    },
    {
      "cell_type": "markdown",
      "source": [
        "Los datos indican que la mayor parte de las ventas se produjo entre los años 2011 y 2012"
      ],
      "metadata": {
        "id": "97ajQz2_Y0Iy"
      }
    },
    {
      "cell_type": "markdown",
      "source": [
        "#4.f. Venta de artículos por año y en cantidad de dólares"
      ],
      "metadata": {
        "id": "EevAdUKlS3O2"
      }
    },
    {
      "cell_type": "code",
      "source": [
        "# Calcular el promedio de solicitud de artículos por orden por año y precios en dólares\n",
        "promedios_año = df.groupby('year')['price in dolars'].sum()\n",
        "\n",
        "# Crear el gráfico de dispersión\n",
        "plt.scatter(promedios_año.index, promedios_año.values, color='pink')\n",
        "\n",
        "# Personalizar el gráfico\n",
        "plt.xlabel('Año')\n",
        "plt.ylabel('Promedio de ingresos en dólares')\n",
        "plt.title('Promedio de solicitud por año')\n",
        "\n",
        "# Mostrar el gráfico\n",
        "plt.show()"
      ],
      "metadata": {
        "colab": {
          "base_uri": "https://localhost:8080/",
          "height": 472
        },
        "id": "s5M6HtgzZpD5",
        "outputId": "da53450d-961a-45be-9bb4-3964623671a7"
      },
      "execution_count": 31,
      "outputs": [
        {
          "output_type": "display_data",
          "data": {
            "text/plain": [
              "<Figure size 640x480 with 1 Axes>"
            ],
            "image/png": "[encoded data removed]"
          },
          "metadata": {}
        }
      ]
    },
    {
      "cell_type": "code",
      "source": [
        "df = df.reset_index(drop=True)"
      ],
      "metadata": {
        "id": "sS-E7CiLXDjL"
      },
      "execution_count": 32,
      "outputs": []
    },
    {
      "cell_type": "code",
      "source": [
        "df.describe()"
      ],
      "metadata": {
        "colab": {
          "base_uri": "https://localhost:8080/",
          "height": 301
        },
        "id": "rJ40h6tiViKT",
        "outputId": "29bcc6b2-2285-4640-afe9-92946bf22eed"
      },
      "execution_count": 33,
      "outputs": [
        {
          "output_type": "execute_result",
          "data": {
            "text/plain": [
              "                 id         year  price in dolars\n",
              "count    528.000000   528.000000       528.000000\n",
              "mean   22276.267045  2011.905303       453.740530\n",
              "std    16010.173438     1.453430       258.481911\n",
              "min     1852.000000  2010.000000        20.000000\n",
              "25%     7875.250000  2011.000000       223.750000\n",
              "50%    19213.000000  2011.500000       441.500000\n",
              "75%    34241.500000  2012.000000       679.000000\n",
              "max    59432.000000  2018.000000       900.000000"
            ],
            "text/html": [
              "\n",
              "  <div id=\"df-574ce3ce-7509-4847-9a85-9d66586541a0\" class=\"colab-df-container\">\n",
              "    <div>\n",
              "<style scoped>\n",
              "    .dataframe tbody tr th:only-of-type {\n",
              "        vertical-align: middle;\n",
              "    }\n",
              "\n",
              "    .dataframe tbody tr th {\n",
              "        vertical-align: top;\n",
              "    }\n",
              "\n",
              "    .dataframe thead th {\n",
              "        text-align: right;\n",
              "    }\n",
              "</style>\n",
              "<table border=\"1\" class=\"dataframe\">\n",
              "  <thead>\n",
              "    <tr style=\"text-align: right;\">\n",
              "      <th></th>\n",
              "      <th>id</th>\n",
              "      <th>year</th>\n",
              "      <th>price in dolars</th>\n",
              "    </tr>\n",
              "  </thead>\n",
              "  <tbody>\n",
              "    <tr>\n",
              "      <th>count</th>\n",
              "      <td>528.000000</td>\n",
              "      <td>528.000000</td>\n",
              "      <td>528.000000</td>\n",
              "    </tr>\n",
              "    <tr>\n",
              "      <th>mean</th>\n",
              "      <td>22276.267045</td>\n",
              "      <td>2011.905303</td>\n",
              "      <td>453.740530</td>\n",
              "    </tr>\n",
              "    <tr>\n",
              "      <th>std</th>\n",
              "      <td>16010.173438</td>\n",
              "      <td>1.453430</td>\n",
              "      <td>258.481911</td>\n",
              "    </tr>\n",
              "    <tr>\n",
              "      <th>min</th>\n",
              "      <td>1852.000000</td>\n",
              "      <td>2010.000000</td>\n",
              "      <td>20.000000</td>\n",
              "    </tr>\n",
              "    <tr>\n",
              "      <th>25%</th>\n",
              "      <td>7875.250000</td>\n",
              "      <td>2011.000000</td>\n",
              "      <td>223.750000</td>\n",
              "    </tr>\n",
              "    <tr>\n",
              "      <th>50%</th>\n",
              "      <td>19213.000000</td>\n",
              "      <td>2011.500000</td>\n",
              "      <td>441.500000</td>\n",
              "    </tr>\n",
              "    <tr>\n",
              "      <th>75%</th>\n",
              "      <td>34241.500000</td>\n",
              "      <td>2012.000000</td>\n",
              "      <td>679.000000</td>\n",
              "    </tr>\n",
              "    <tr>\n",
              "      <th>max</th>\n",
              "      <td>59432.000000</td>\n",
              "      <td>2018.000000</td>\n",
              "      <td>900.000000</td>\n",
              "    </tr>\n",
              "  </tbody>\n",
              "</table>\n",
              "</div>\n",
              "    <div class=\"colab-df-buttons\">\n",
              "\n",
              "  <div class=\"colab-df-container\">\n",
              "    <button class=\"colab-df-convert\" onclick=\"convertToInteractive('df-574ce3ce-7509-4847-9a85-9d66586541a0')\"\n",
              "            title=\"Convert this dataframe to an interactive table.\"\n",
              "            style=\"display:none;\">\n",
              "\n",
              "  <svg xmlns=\"http://www.w3.org/2000/svg\" height=\"24px\" viewBox=\"0 -960 960 960\">\n",
              "    <path d=\"M120-120v-720h720v720H120Zm60-500h600v-160H180v160Zm220 220h160v-160H400v160Zm0 220h160v-160H400v160ZM180-400h160v-160H180v160Zm440 0h160v-160H620v160ZM180-180h160v-160H180v160Zm440 0h160v-160H620v160Z\"/>\n",
              "  </svg>\n",
              "    </button>\n",
              "\n",
              "  <style>\n",
              "    .colab-df-container {\n",
              "      display:flex;\n",
              "      gap: 12px;\n",
              "    }\n",
              "\n",
              "    .colab-df-convert {\n",
              "      background-color: #E8F0FE;\n",
              "      border: none;\n",
              "      border-radius: 50%;\n",
              "      cursor: pointer;\n",
              "      display: none;\n",
              "      fill: #1967D2;\n",
              "      height: 32px;\n",
              "      padding: 0 0 0 0;\n",
              "      width: 32px;\n",
              "    }\n",
              "\n",
              "    .colab-df-convert:hover {\n",
              "      background-color: #E2EBFA;\n",
              "      box-shadow: 0px 1px 2px rgba(60, 64, 67, 0.3), 0px 1px 3px 1px rgba(60, 64, 67, 0.15);\n",
              "      fill: #174EA6;\n",
              "    }\n",
              "\n",
              "    .colab-df-buttons div {\n",
              "      margin-bottom: 4px;\n",
              "    }\n",
              "\n",
              "    [theme=dark] .colab-df-convert {\n",
              "      background-color: #3B4455;\n",
              "      fill: #D2E3FC;\n",
              "    }\n",
              "\n",
              "    [theme=dark] .colab-df-convert:hover {\n",
              "      background-color: #434B5C;\n",
              "      box-shadow: 0px 1px 3px 1px rgba(0, 0, 0, 0.15);\n",
              "      filter: drop-shadow(0px 1px 2px rgba(0, 0, 0, 0.3));\n",
              "      fill: #FFFFFF;\n",
              "    }\n",
              "  </style>\n",
              "\n",
              "    <script>\n",
              "      const buttonEl =\n",
              "        document.querySelector('#df-574ce3ce-7509-4847-9a85-9d66586541a0 button.colab-df-convert');\n",
              "      buttonEl.style.display =\n",
              "        google.colab.kernel.accessAllowed ? 'block' : 'none';\n",
              "\n",
              "      async function convertToInteractive(key) {\n",
              "        const element = document.querySelector('#df-574ce3ce-7509-4847-9a85-9d66586541a0');\n",
              "        const dataTable =\n",
              "          await google.colab.kernel.invokeFunction('convertToInteractive',\n",
              "                                                    [key], {});\n",
              "        if (!dataTable) return;\n",
              "\n",
              "        const docLinkHtml = 'Like what you see? Visit the ' +\n",
              "          '<a target=\"_blank\" href=https://colab.research.google.com/notebooks/data_table.ipynb>data table notebook</a>'\n",
              "          + ' to learn more about interactive tables.';\n",
              "        element.innerHTML = '';\n",
              "        dataTable['output_type'] = 'display_data';\n",
              "        await google.colab.output.renderOutput(dataTable, element);\n",
              "        const docLink = document.createElement('div');\n",
              "        docLink.innerHTML = docLinkHtml;\n",
              "        element.appendChild(docLink);\n",
              "      }\n",
              "    </script>\n",
              "  </div>\n",
              "\n",
              "\n",
              "<div id=\"df-4b4f4a86-c3c5-4722-846a-46bccdd7074f\">\n",
              "  <button class=\"colab-df-quickchart\" onclick=\"quickchart('df-4b4f4a86-c3c5-4722-846a-46bccdd7074f')\"\n",
              "            title=\"Suggest charts.\"\n",
              "            style=\"display:none;\">\n",
              "\n",
              "<svg xmlns=\"http://www.w3.org/2000/svg\" height=\"24px\"viewBox=\"0 0 24 24\"\n",
              "     width=\"24px\">\n",
              "    <g>\n",
              "        <path d=\"M19 3H5c-1.1 0-2 .9-2 2v14c0 1.1.9 2 2 2h14c1.1 0 2-.9 2-2V5c0-1.1-.9-2-2-2zM9 17H7v-7h2v7zm4 0h-2V7h2v10zm4 0h-2v-4h2v4z\"/>\n",
              "    </g>\n",
              "</svg>\n",
              "  </button>\n",
              "\n",
              "<style>\n",
              "  .colab-df-quickchart {\n",
              "      --bg-color: #E8F0FE;\n",
              "      --fill-color: #1967D2;\n",
              "      --hover-bg-color: #E2EBFA;\n",
              "      --hover-fill-color: #174EA6;\n",
              "      --disabled-fill-color: #AAA;\n",
              "      --disabled-bg-color: #DDD;\n",
              "  }\n",
              "\n",
              "  [theme=dark] .colab-df-quickchart {\n",
              "      --bg-color: #3B4455;\n",
              "      --fill-color: #D2E3FC;\n",
              "      --hover-bg-color: #434B5C;\n",
              "      --hover-fill-color: #FFFFFF;\n",
              "      --disabled-bg-color: #3B4455;\n",
              "      --disabled-fill-color: #666;\n",
              "  }\n",
              "\n",
              "  .colab-df-quickchart {\n",
              "    background-color: var(--bg-color);\n",
              "    border: none;\n",
              "    border-radius: 50%;\n",
              "    cursor: pointer;\n",
              "    display: none;\n",
              "    fill: var(--fill-color);\n",
              "    height: 32px;\n",
              "    padding: 0;\n",
              "    width: 32px;\n",
              "  }\n",
              "\n",
              "  .colab-df-quickchart:hover {\n",
              "    background-color: var(--hover-bg-color);\n",
              "    box-shadow: 0 1px 2px rgba(60, 64, 67, 0.3), 0 1px 3px 1px rgba(60, 64, 67, 0.15);\n",
              "    fill: var(--button-hover-fill-color);\n",
              "  }\n",
              "\n",
              "  .colab-df-quickchart-complete:disabled,\n",
              "  .colab-df-quickchart-complete:disabled:hover {\n",
              "    background-color: var(--disabled-bg-color);\n",
              "    fill: var(--disabled-fill-color);\n",
              "    box-shadow: none;\n",
              "  }\n",
              "\n",
              "  .colab-df-spinner {\n",
              "    border: 2px solid var(--fill-color);\n",
              "    border-color: transparent;\n",
              "    border-bottom-color: var(--fill-color);\n",
              "    animation:\n",
              "      spin 1s steps(1) infinite;\n",
              "  }\n",
              "\n",
              "  @keyframes spin {\n",
              "    0% {\n",
              "      border-color: transparent;\n",
              "      border-bottom-color: var(--fill-color);\n",
              "      border-left-color: var(--fill-color);\n",
              "    }\n",
              "    20% {\n",
              "      border-color: transparent;\n",
              "      border-left-color: var(--fill-color);\n",
              "      border-top-color: var(--fill-color);\n",
              "    }\n",
              "    30% {\n",
              "      border-color: transparent;\n",
              "      border-left-color: var(--fill-color);\n",
              "      border-top-color: var(--fill-color);\n",
              "      border-right-color: var(--fill-color);\n",
              "    }\n",
              "    40% {\n",
              "      border-color: transparent;\n",
              "      border-right-color: var(--fill-color);\n",
              "      border-top-color: var(--fill-color);\n",
              "    }\n",
              "    60% {\n",
              "      border-color: transparent;\n",
              "      border-right-color: var(--fill-color);\n",
              "    }\n",
              "    80% {\n",
              "      border-color: transparent;\n",
              "      border-right-color: var(--fill-color);\n",
              "      border-bottom-color: var(--fill-color);\n",
              "    }\n",
              "    90% {\n",
              "      border-color: transparent;\n",
              "      border-bottom-color: var(--fill-color);\n",
              "    }\n",
              "  }\n",
              "</style>\n",
              "\n",
              "  <script>\n",
              "    async function quickchart(key) {\n",
              "      const quickchartButtonEl =\n",
              "        document.querySelector('#' + key + ' button');\n",
              "      quickchartButtonEl.disabled = true;  // To prevent multiple clicks.\n",
              "      quickchartButtonEl.classList.add('colab-df-spinner');\n",
              "      try {\n",
              "        const charts = await google.colab.kernel.invokeFunction(\n",
              "            'suggestCharts', [key], {});\n",
              "      } catch (error) {\n",
              "        console.error('Error during call to suggestCharts:', error);\n",
              "      }\n",
              "      quickchartButtonEl.classList.remove('colab-df-spinner');\n",
              "      quickchartButtonEl.classList.add('colab-df-quickchart-complete');\n",
              "    }\n",
              "    (() => {\n",
              "      let quickchartButtonEl =\n",
              "        document.querySelector('#df-4b4f4a86-c3c5-4722-846a-46bccdd7074f button');\n",
              "      quickchartButtonEl.style.display =\n",
              "        google.colab.kernel.accessAllowed ? 'block' : 'none';\n",
              "    })();\n",
              "  </script>\n",
              "</div>\n",
              "    </div>\n",
              "  </div>\n"
            ]
          },
          "metadata": {},
          "execution_count": 33
        }
      ]
    },
    {
      "cell_type": "markdown",
      "source": [
        "De acuerdo al gráfico, y considerando la descripción ofrecida en la última línea de código, podemos concluir que el promedio de ingresos en la industria de la moda vía e-commerce, ha tenido un mínimo de 20 millones de dólares y un máximo de 900 millones de dólares totales. A su vez, estas ganancias han alcanzado su pico en el año 2011 con 223.750.000 millones de dólares, valor que además pertenece al valor medio (mean) del total."
      ],
      "metadata": {
        "id": "5o2TzJsla8a5"
      }
    },
    {
      "cell_type": "code",
      "source": [
        "f, (ax1, ax2, ax3) = plt.subplots(1, 3, sharey=True, figsize =(15,3)) #sharey -> share 'Price' as y\n",
        "ax1.scatter(df['year'],df['price in dolars'])\n",
        "ax1.set_title('Price and Year')\n",
        "ax2.scatter(df['masterCategory'],df['price in dolars'])\n",
        "ax2.set_title('Price and Master Category')\n",
        "ax3.scatter(df['season'],df['price in dolars'])\n",
        "ax3.set_title('Price and Season')"
      ],
      "metadata": {
        "colab": {
          "base_uri": "https://localhost:8080/",
          "height": 333
        },
        "id": "Ek5lAfpaXTK0",
        "outputId": "af6e5226-8447-4407-e4d0-fa83b46cee51"
      },
      "execution_count": 34,
      "outputs": [
        {
          "output_type": "execute_result",
          "data": {
            "text/plain": [
              "Text(0.5, 1.0, 'Price and Season')"
            ]
          },
          "metadata": {},
          "execution_count": 34
        },
        {
          "output_type": "display_data",
          "data": {
            "text/plain": [
              "<Figure size 1500x300 with 3 Axes>"
            ],
            "image/png": "[encoded data removed]"
          },
          "metadata": {}
        }
      ]
    },
    {
      "cell_type": "markdown",
      "source": [
        "El gráfico muestra una anomalía en el comportamiento de los precios que no resulta secuencial respecto al tiempo, sin embargo, podemos reconocer una mayor cantidad de demandas realizadas en el período de verano y otoño que disminuye en le período de invierno y decae en primavera."
      ],
      "metadata": {
        "id": "_C5nwteBZ8vm"
      }
    },
    {
      "cell_type": "markdown",
      "source": [
        "# 5.a. Proceso de aplicación de técnicas de selección de características\n",
        "\n",
        "En este paso, previo a la selección del modelo algorítmico, realizamos el proceso de selección de features, es decir, intervenimos todas aquellas variables que puedan llegar a ser de importancia para el buen funcionamiento del modelo, por buen funcionamiento entendemos, una predicción precisa de los precios de los artículos en el tiempo."
      ],
      "metadata": {
        "id": "bkxNuPtfNad7"
      }
    },
    {
      "cell_type": "code",
      "source": [
        "# Ejemplo de codificación one-hot para las columnas 'gender', 'masterCategory', 'subCategory', 'season', 'usage,\t'articleType'\n",
        "\n",
        "df_encoded = pd.get_dummies(df, columns=['masterCategory', 'subCategory', 'articleType', 'gender', 'season', 'usage'], drop_first = True)\n",
        "df_encoded.dtypes"
      ],
      "metadata": {
        "colab": {
          "base_uri": "https://localhost:8080/"
        },
        "id": "GznWHxfENU4O",
        "outputId": "4a931a9f-4e78-444b-c941-2dbb917907f0"
      },
      "execution_count": 35,
      "outputs": [
        {
          "output_type": "execute_result",
          "data": {
            "text/plain": [
              "id                         int64\n",
              "year                       int64\n",
              "price in dolars            int64\n",
              "masterCategory_Apparel     uint8\n",
              "masterCategory_Footwear    uint8\n",
              "subCategory_Shoes          uint8\n",
              "subCategory_Topwear        uint8\n",
              "articleType_Handbags       uint8\n",
              "articleType_Tshirts        uint8\n",
              "gender_Girls               uint8\n",
              "gender_Men                 uint8\n",
              "gender_Unisex              uint8\n",
              "gender_Women               uint8\n",
              "season_Spring              uint8\n",
              "season_Summer              uint8\n",
              "season_Winter              uint8\n",
              "usage_Sports               uint8\n",
              "dtype: object"
            ]
          },
          "metadata": {},
          "execution_count": 35
        }
      ]
    },
    {
      "cell_type": "markdown",
      "source": [
        "# 5.b. Técnica seleccionada: Back Elimination"
      ],
      "metadata": {
        "id": "fx8AyhWBSm6y"
      }
    },
    {
      "cell_type": "code",
      "source": [
        "import statsmodels.api as sm"
      ],
      "metadata": {
        "id": "MX9AX4gFRcVu"
      },
      "execution_count": 36,
      "outputs": []
    },
    {
      "cell_type": "code",
      "source": [
        "def backward_elimination(df, target_column, significance_level=0.05):\n",
        "    features = df.drop(target_column, axis=1)\n",
        "    target = df[target_column]\n",
        "    num_features = len(features.columns)\n",
        "    while True:\n",
        "        model = sm.OLS(target, features).fit()\n",
        "        max_p_value = max(model.pvalues)\n",
        "        if max_p_value > significance_level:\n",
        "            max_feature_idx = model.pvalues.idxmax()\n",
        "            features = features.drop(max_feature_idx, axis=1)\n",
        "        else:\n",
        "            break\n",
        "    return features\n",
        "\n",
        "# Aplicar Backward Elimination al DataFrame\n",
        "selected_features = backward_elimination(df_encoded, target_column='price in dolars')\n",
        "\n",
        "# Mostrar las características seleccionadas\n",
        "print(\"Características seleccionadas:\", selected_features.columns)"
      ],
      "metadata": {
        "colab": {
          "base_uri": "https://localhost:8080/"
        },
        "id": "Wzfr16nIb43H",
        "outputId": "397df066-2579-4916-de4c-06f050ed299f"
      },
      "execution_count": 37,
      "outputs": [
        {
          "output_type": "stream",
          "name": "stdout",
          "text": [
            "Características seleccionadas: Index(['masterCategory_Apparel', 'masterCategory_Footwear',\n",
            "       'subCategory_Shoes', 'subCategory_Topwear', 'articleType_Handbags',\n",
            "       'articleType_Tshirts'],\n",
            "      dtype='object')\n"
          ]
        }
      ]
    },
    {
      "cell_type": "markdown",
      "source": [
        "De esto concluimos que nos podemos quedar con: 'masterCategory', 'subCategory' como variables independientes relevantes."
      ],
      "metadata": {
        "id": "auKiTXHruUCB"
      }
    },
    {
      "cell_type": "code",
      "source": [
        "df.columns"
      ],
      "metadata": {
        "colab": {
          "base_uri": "https://localhost:8080/"
        },
        "id": "fZAlVD5FvZxt",
        "outputId": "0087699c-e902-4c24-ae2f-3b298916c02d"
      },
      "execution_count": 38,
      "outputs": [
        {
          "output_type": "execute_result",
          "data": {
            "text/plain": [
              "Index(['id', 'gender', 'masterCategory', 'subCategory', 'articleType',\n",
              "       'season', 'year', 'usage', 'price in dolars'],\n",
              "      dtype='object')"
            ]
          },
          "metadata": {},
          "execution_count": 38
        }
      ]
    },
    {
      "cell_type": "code",
      "source": [
        "df.dtypes"
      ],
      "metadata": {
        "colab": {
          "base_uri": "https://localhost:8080/"
        },
        "id": "4g_qULhqGza4",
        "outputId": "ee191916-094a-4fb6-f69e-0a5fef5a06df"
      },
      "execution_count": 39,
      "outputs": [
        {
          "output_type": "execute_result",
          "data": {
            "text/plain": [
              "id                  int64\n",
              "gender             object\n",
              "masterCategory     object\n",
              "subCategory        object\n",
              "articleType        object\n",
              "season             object\n",
              "year                int64\n",
              "usage              object\n",
              "price in dolars     int64\n",
              "dtype: object"
            ]
          },
          "metadata": {},
          "execution_count": 39
        }
      ]
    },
    {
      "cell_type": "markdown",
      "source": [
        "Como podemos verificar, las columnas vuelven a tomar el valor de objeto en vez de permanecer como numéricas. De modo que volvemos a convertirlas a su valor numérico en el siguiente paso."
      ],
      "metadata": {
        "id": "MpXJ9RZ3Hcgm"
      }
    },
    {
      "cell_type": "markdown",
      "source": [
        "# 6.a. Preparación de datos de entrenamiento y de validación"
      ],
      "metadata": {
        "id": "fr_6lka0v7m2"
      }
    },
    {
      "cell_type": "code",
      "source": [
        "import pandas as pd\n",
        "from sklearn.model_selection import train_test_split\n",
        "from sklearn.linear_model import LinearRegression\n",
        "\n",
        "# Seleccionar las columnas que serán las variables independientes\n",
        "independent_variables = df[['masterCategory', 'articleType']]\n",
        "\n",
        "# Codificar la columna 'masterCategory', 'subCategory' utilizando one-hot encoding\n",
        "independent_variables_encoded = pd.get_dummies(independent_variables, columns=['masterCategory', 'articleType'])\n",
        "\n",
        "# Seleccionar la columna que será la variable dependiente\n",
        "dependent_variable = df['price in dolars']\n",
        "\n",
        "# Dividir el conjunto de datos en train y test\n",
        "X_train, X_test, y_train, y_test = train_test_split(independent_variables_encoded, dependent_variable, test_size=0.2, random_state=42)"
      ],
      "metadata": {
        "id": "3xozxiGjv03F"
      },
      "execution_count": 40,
      "outputs": []
    },
    {
      "cell_type": "markdown",
      "source": [
        "# 6.b. Aplicación del modelo algorítmico supervisado: regresión lineal múltiple\n",
        "\n",
        "En el último paso realizamos la aplicación del modelo algorítmico para predecir el precio promedio de esta industria en su totalidad en el tiempo (cuya unidad son los años de venta).\n",
        "\n",
        "La elección de este modelo de regresión lineal múltiple se debe a que el mismo permite predecir, mediante diversas variables independientes, el valor de una variable dependiente (en este caso sería los precios en dólares) y también puede ayudar a explicar la precisión de la predicción.\n",
        "\n",
        "Teniendo en cuenta los resultados obtenidos con la técnica de Back Elimination procedemos a analizar los resultados estadísticos que ofrecen las variables independientes: 'year', 'masterCategory' y 'articleType'.\n",
        "\n",
        "Para ver el funcionamiento del modelo de regresión lineal, realizamos los cálculos a través de la librería Statsmodel, lo cual permite ver con claridad las tablas de los mínimos cuadrados ordinarios, ordinary least squares (OLS). Luego, para el paso posterior, la evaluación del modelo y su optimización, haremos uso de la librería scikit learn."
      ],
      "metadata": {
        "id": "j6if4XtDR1b5"
      }
    },
    {
      "cell_type": "code",
      "source": [
        "# Importamos librerías\n",
        "\n",
        "import numpy as np\n",
        "import statsmodels.api as sm"
      ],
      "metadata": {
        "id": "Ce76Ebj6UbI_"
      },
      "execution_count": 46,
      "outputs": []
    },
    {
      "cell_type": "code",
      "source": [
        "# Seleccionar las columnas que serán las variables independientes\n",
        "x = df[['masterCategory', 'articleType']]\n",
        "\n",
        "# Codificar la columna 'masterCategory', 'subCategory' utilizando one-hot encoding\n",
        "x_encoded = pd.get_dummies(x, columns=['masterCategory', 'articleType'])"
      ],
      "metadata": {
        "id": "IN--xIL8VISN"
      },
      "execution_count": 47,
      "outputs": []
    },
    {
      "cell_type": "code",
      "source": [
        "y = df ['price in dolars']  #variable dependiente\n",
        "x = df [['year', 'masterCategory', 'articleType']]   #variables independientes"
      ],
      "metadata": {
        "id": "CW8eLbiXLEK_"
      },
      "execution_count": 48,
      "outputs": []
    },
    {
      "cell_type": "code",
      "source": [
        "x = sm.add_constant(x_encoded)\n",
        "results = sm.OLS(y, x).fit()\n",
        "results.summary()"
      ],
      "metadata": {
        "colab": {
          "base_uri": "https://localhost:8080/",
          "height": 593
        },
        "id": "4DhU-hSufbJZ",
        "outputId": "9e96146f-c818-49cd-bb4e-d9a480dac4cf"
      },
      "execution_count": 49,
      "outputs": [
        {
          "output_type": "execute_result",
          "data": {
            "text/plain": [
              "<class 'statsmodels.iolib.summary.Summary'>\n",
              "\"\"\"\n",
              "                            OLS Regression Results                            \n",
              "==============================================================================\n",
              "Dep. Variable:        price in dolars   R-squared:                      -0.000\n",
              "Model:                            OLS   Adj. R-squared:                 -0.004\n",
              "Method:                 Least Squares   F-statistic:                  -0.08708\n",
              "Date:                Tue, 10 Oct 2023   Prob (F-statistic):               1.00\n",
              "Time:                        10:11:23   Log-Likelihood:                -3681.7\n",
              "No. Observations:                 528   AIC:                             7369.\n",
              "Df Residuals:                     525   BIC:                             7382.\n",
              "Df Model:                           2                                         \n",
              "Covariance Type:            nonrobust                                         \n",
              "==============================================================================================\n",
              "                                 coef    std err          t      P>|t|      [0.025      0.975]\n",
              "----------------------------------------------------------------------------------------------\n",
              "const                      -4.653e+14   3.29e+14     -1.416      0.157   -1.11e+15     1.8e+14\n",
              "masterCategory_Accessories  1.276e+15   9.01e+14      1.416      0.157   -4.95e+14    3.05e+15\n",
              "masterCategory_Apparel      8.138e+15   5.75e+15      1.416      0.157   -3.15e+15    1.94e+16\n",
              "masterCategory_Footwear     2.326e+14   1.64e+14      1.416      0.157   -9.02e+13    5.55e+14\n",
              "articleType_Casual Shoes    2.326e+14   1.64e+14      1.416      0.157   -9.02e+13    5.55e+14\n",
              "articleType_Handbags       -8.108e+14   5.73e+14     -1.416      0.157   -1.94e+15    3.14e+14\n",
              "articleType_Tshirts        -7.673e+15   5.42e+15     -1.416      0.157   -1.83e+16    2.97e+15\n",
              "==============================================================================\n",
              "Omnibus:                      366.570   Durbin-Watson:                   1.974\n",
              "Prob(Omnibus):                  0.000   Jarque-Bera (JB):               32.330\n",
              "Skew:                          -0.031   Prob(JB):                     9.54e-08\n",
              "Kurtosis:                       1.789   Cond. No.                     7.24e+29\n",
              "==============================================================================\n",
              "\n",
              "Notes:\n",
              "[1] Standard Errors assume that the covariance matrix of the errors is correctly specified.\n",
              "[2] The smallest eigenvalue is 1.97e-57. This might indicate that there are\n",
              "strong multicollinearity problems or that the design matrix is singular.\n",
              "\"\"\""
            ],
            "text/html": [
              "<table class=\"simpletable\">\n",
              "<caption>OLS Regression Results</caption>\n",
              "<tr>\n",
              "  <th>Dep. Variable:</th>     <td>price in dolars</td> <th>  R-squared:         </th> <td>  -0.000</td>\n",
              "</tr>\n",
              "<tr>\n",
              "  <th>Model:</th>                   <td>OLS</td>       <th>  Adj. R-squared:    </th> <td>  -0.004</td>\n",
              "</tr>\n",
              "<tr>\n",
              "  <th>Method:</th>             <td>Least Squares</td>  <th>  F-statistic:       </th> <td>-0.08708</td>\n",
              "</tr>\n",
              "<tr>\n",
              "  <th>Date:</th>             <td>Tue, 10 Oct 2023</td> <th>  Prob (F-statistic):</th>  <td>  1.00</td> \n",
              "</tr>\n",
              "<tr>\n",
              "  <th>Time:</th>                 <td>10:11:23</td>     <th>  Log-Likelihood:    </th> <td> -3681.7</td>\n",
              "</tr>\n",
              "<tr>\n",
              "  <th>No. Observations:</th>      <td>   528</td>      <th>  AIC:               </th> <td>   7369.</td>\n",
              "</tr>\n",
              "<tr>\n",
              "  <th>Df Residuals:</th>          <td>   525</td>      <th>  BIC:               </th> <td>   7382.</td>\n",
              "</tr>\n",
              "<tr>\n",
              "  <th>Df Model:</th>              <td>     2</td>      <th>                     </th>     <td> </td>   \n",
              "</tr>\n",
              "<tr>\n",
              "  <th>Covariance Type:</th>      <td>nonrobust</td>    <th>                     </th>     <td> </td>   \n",
              "</tr>\n",
              "</table>\n",
              "<table class=\"simpletable\">\n",
              "<tr>\n",
              "               <td></td>                 <th>coef</th>     <th>std err</th>      <th>t</th>      <th>P>|t|</th>  <th>[0.025</th>    <th>0.975]</th>  \n",
              "</tr>\n",
              "<tr>\n",
              "  <th>const</th>                      <td>-4.653e+14</td> <td> 3.29e+14</td> <td>   -1.416</td> <td> 0.157</td> <td>-1.11e+15</td> <td>  1.8e+14</td>\n",
              "</tr>\n",
              "<tr>\n",
              "  <th>masterCategory_Accessories</th> <td> 1.276e+15</td> <td> 9.01e+14</td> <td>    1.416</td> <td> 0.157</td> <td>-4.95e+14</td> <td> 3.05e+15</td>\n",
              "</tr>\n",
              "<tr>\n",
              "  <th>masterCategory_Apparel</th>     <td> 8.138e+15</td> <td> 5.75e+15</td> <td>    1.416</td> <td> 0.157</td> <td>-3.15e+15</td> <td> 1.94e+16</td>\n",
              "</tr>\n",
              "<tr>\n",
              "  <th>masterCategory_Footwear</th>    <td> 2.326e+14</td> <td> 1.64e+14</td> <td>    1.416</td> <td> 0.157</td> <td>-9.02e+13</td> <td> 5.55e+14</td>\n",
              "</tr>\n",
              "<tr>\n",
              "  <th>articleType_Casual Shoes</th>   <td> 2.326e+14</td> <td> 1.64e+14</td> <td>    1.416</td> <td> 0.157</td> <td>-9.02e+13</td> <td> 5.55e+14</td>\n",
              "</tr>\n",
              "<tr>\n",
              "  <th>articleType_Handbags</th>       <td>-8.108e+14</td> <td> 5.73e+14</td> <td>   -1.416</td> <td> 0.157</td> <td>-1.94e+15</td> <td> 3.14e+14</td>\n",
              "</tr>\n",
              "<tr>\n",
              "  <th>articleType_Tshirts</th>        <td>-7.673e+15</td> <td> 5.42e+15</td> <td>   -1.416</td> <td> 0.157</td> <td>-1.83e+16</td> <td> 2.97e+15</td>\n",
              "</tr>\n",
              "</table>\n",
              "<table class=\"simpletable\">\n",
              "<tr>\n",
              "  <th>Omnibus:</th>       <td>366.570</td> <th>  Durbin-Watson:     </th> <td>   1.974</td>\n",
              "</tr>\n",
              "<tr>\n",
              "  <th>Prob(Omnibus):</th> <td> 0.000</td>  <th>  Jarque-Bera (JB):  </th> <td>  32.330</td>\n",
              "</tr>\n",
              "<tr>\n",
              "  <th>Skew:</th>          <td>-0.031</td>  <th>  Prob(JB):          </th> <td>9.54e-08</td>\n",
              "</tr>\n",
              "<tr>\n",
              "  <th>Kurtosis:</th>      <td> 1.789</td>  <th>  Cond. No.          </th> <td>7.24e+29</td>\n",
              "</tr>\n",
              "</table><br/><br/>Notes:<br/>[1] Standard Errors assume that the covariance matrix of the errors is correctly specified.<br/>[2] The smallest eigenvalue is 1.97e-57. This might indicate that there are<br/>strong multicollinearity problems or that the design matrix is singular."
            ],
            "text/latex": "\\begin{center}\n\\begin{tabular}{lclc}\n\\toprule\n\\textbf{Dep. Variable:}              & price in dolars  & \\textbf{  R-squared:         } &    -0.000   \\\\\n\\textbf{Model:}                      &       OLS        & \\textbf{  Adj. R-squared:    } &    -0.004   \\\\\n\\textbf{Method:}                     &  Least Squares   & \\textbf{  F-statistic:       } &  -0.08708   \\\\\n\\textbf{Date:}                       & Tue, 10 Oct 2023 & \\textbf{  Prob (F-statistic):} &     1.00    \\\\\n\\textbf{Time:}                       &     10:11:23     & \\textbf{  Log-Likelihood:    } &   -3681.7   \\\\\n\\textbf{No. Observations:}           &         528      & \\textbf{  AIC:               } &     7369.   \\\\\n\\textbf{Df Residuals:}               &         525      & \\textbf{  BIC:               } &     7382.   \\\\\n\\textbf{Df Model:}                   &           2      & \\textbf{                     } &             \\\\\n\\textbf{Covariance Type:}            &    nonrobust     & \\textbf{                     } &             \\\\\n\\bottomrule\n\\end{tabular}\n\\begin{tabular}{lcccccc}\n                                     & \\textbf{coef} & \\textbf{std err} & \\textbf{t} & \\textbf{P$> |$t$|$} & \\textbf{[0.025} & \\textbf{0.975]}  \\\\\n\\midrule\n\\textbf{const}                       &   -4.653e+14  &     3.29e+14     &    -1.416  &         0.157        &    -1.11e+15    &      1.8e+14     \\\\\n\\textbf{masterCategory\\_Accessories} &    1.276e+15  &     9.01e+14     &     1.416  &         0.157        &    -4.95e+14    &     3.05e+15     \\\\\n\\textbf{masterCategory\\_Apparel}     &    8.138e+15  &     5.75e+15     &     1.416  &         0.157        &    -3.15e+15    &     1.94e+16     \\\\\n\\textbf{masterCategory\\_Footwear}    &    2.326e+14  &     1.64e+14     &     1.416  &         0.157        &    -9.02e+13    &     5.55e+14     \\\\\n\\textbf{articleType\\_Casual Shoes}   &    2.326e+14  &     1.64e+14     &     1.416  &         0.157        &    -9.02e+13    &     5.55e+14     \\\\\n\\textbf{articleType\\_Handbags}       &   -8.108e+14  &     5.73e+14     &    -1.416  &         0.157        &    -1.94e+15    &     3.14e+14     \\\\\n\\textbf{articleType\\_Tshirts}        &   -7.673e+15  &     5.42e+15     &    -1.416  &         0.157        &    -1.83e+16    &     2.97e+15     \\\\\n\\bottomrule\n\\end{tabular}\n\\begin{tabular}{lclc}\n\\textbf{Omnibus:}       & 366.570 & \\textbf{  Durbin-Watson:     } &    1.974  \\\\\n\\textbf{Prob(Omnibus):} &   0.000 & \\textbf{  Jarque-Bera (JB):  } &   32.330  \\\\\n\\textbf{Skew:}          &  -0.031 & \\textbf{  Prob(JB):          } & 9.54e-08  \\\\\n\\textbf{Kurtosis:}      &   1.789 & \\textbf{  Cond. No.          } & 7.24e+29  \\\\\n\\bottomrule\n\\end{tabular}\n%\\caption{OLS Regression Results}\n\\end{center}\n\nNotes: \\newline\n [1] Standard Errors assume that the covariance matrix of the errors is correctly specified. \\newline\n [2] The smallest eigenvalue is 1.97e-57. This might indicate that there are \\newline\n strong multicollinearity problems or that the design matrix is singular."
          },
          "metadata": {},
          "execution_count": 49
        }
      ]
    },
    {
      "cell_type": "markdown",
      "source": [
        "# 6. c. Análisis del modelo algorítmico\n",
        "\n",
        "1. La zona superior de la tabla se trata de un resumen del modelo\n",
        "\n",
        "2. En la zona intermedia se puede encontrar la tabla de los coeficientes\n",
        "\n",
        "3. La zona inferior de la tabla muestra pruebas adicionales\n",
        "\n",
        "\n",
        "A modo de conclusión nos enfocamos en la tabla de coeficientes, mediante el cual, se puede contruir el modelo seleccionado:\n",
        "\n",
        "Desviación estándar (std err), explica cuánto la variable se ajusta a los datos disponibles, cuanto menor sea el valor, mejor el resultado. En nuestro caso,  las variables 'Casual_Shoes' y 'Footwear' con los valores más bajos de desviación estándar se ajustan mejor al dataset.\n",
        "\n",
        "P-value, indica el valor de probabilidad, cuanto más cercano a 0, mejor explica la variable en cuestión a los datos. Dentro de este contexto, podemos identificar el valor del P value del mismo valor en todas las variables (0.15), lo que nos lleva a concluir que estas variables sí contribuyen para mejorar el modelo, es decir para realizar la predicción.\n",
        "\n",
        "Sin embargo, mediante el R-squared identificamos que la precisión de la función respecto a los datos es nula y el Adjusted R2 indica un nulo porcentaje de variación del modelo como efecto de la/s entrada/s.\n",
        "\n"
      ],
      "metadata": {
        "id": "u9cIOzXdgxyW"
      }
    },
    {
      "cell_type": "markdown",
      "source": [
        "# 7. a. Evaluación del modelo\n",
        "\n",
        "En esta etapa pasamos a separar los datos en dos partes: de entrenamiento y de testeo. Realizamos los cálculos estadísticos y calculamos finalmente su error medio cuadrático (MSE)."
      ],
      "metadata": {
        "id": "8OBNo93NaxIf"
      }
    },
    {
      "cell_type": "markdown",
      "source": [
        "# 7.b. Separación de datos de entrenamiento y predicción"
      ],
      "metadata": {
        "id": "viA9Pg0ZgFQp"
      }
    },
    {
      "cell_type": "code",
      "source": [
        "# Crear el modelo de regresión lineal\n",
        "model = LinearRegression()\n",
        "\n",
        "# Ajustar el modelo con el conjunto de entrenamiento\n",
        "model.fit(X_train, y_train)\n",
        "\n",
        "# Hacer predicciones con el conjunto de prueba\n",
        "predictions = model.predict(X_test)"
      ],
      "metadata": {
        "id": "Yw0XGZwHgD55"
      },
      "execution_count": 50,
      "outputs": []
    },
    {
      "cell_type": "markdown",
      "source": [
        "# 7.c. Cálculo de la varianza natural de los precios\n",
        "\n",
        "Mediante la varianza obtenemos la media aritmética del cuadrado de las desviaciones respecto a la media de una distribución estadística. Es decir, es una medida de dispersión para ver cómo los datos se distribuyen en torno a la media."
      ],
      "metadata": {
        "id": "oVz899OnwoDe"
      }
    },
    {
      "cell_type": "code",
      "source": [
        "# Importación de la librería\n",
        "import numpy as np\n",
        "\n",
        "\n",
        "# Calcular la varianza natural de la columna 'price in dolars'\n",
        "variance_price = np.var(df['price in dolars'])\n",
        "print(\"Varianza natural de Price:\", variance_price)\n",
        "\n",
        "# Visualizar el histograma de 'price in dolars'\n",
        "plt.hist(df['price in dolars'], bins=40, edgecolor='w', color= 'pink')\n",
        "plt.xlabel('price in dolars')\n",
        "plt.ylabel('Frecuencia')\n",
        "plt.title('Histograma de Price')\n",
        "plt.show()"
      ],
      "metadata": {
        "colab": {
          "base_uri": "https://localhost:8080/",
          "height": 491
        },
        "id": "zm2Otckx531G",
        "outputId": "932a2478-0552-4721-ad92-6cef1cd37fcf"
      },
      "execution_count": 51,
      "outputs": [
        {
          "output_type": "stream",
          "name": "stdout",
          "text": [
            "Varianza natural de Price: 66686.35881184\n"
          ]
        },
        {
          "output_type": "display_data",
          "data": {
            "text/plain": [
              "<Figure size 640x480 with 1 Axes>"
            ],
            "image/png": "[encoded data removed]"
          },
          "metadata": {}
        }
      ]
    },
    {
      "cell_type": "markdown",
      "source": [
        "Podemos concluir que el rango de valores de los precios de artículos de moda se haya entre 10 y 1000 dólares aproximadamente y los valores se concentran en torno a una media de 500 dólares aproximadamente. De acuerdo al cálculo la varianza natural de la variable 'price' es de 66.686 dólares."
      ],
      "metadata": {
        "id": "8XaAWVdhwHD_"
      }
    },
    {
      "cell_type": "markdown",
      "source": [
        "# 7.d. Evaluación mediante el MSE (error medio cuadrático)\n",
        "\n",
        "En esta sección compararemos el error medio cuadrático (MSE) con la varianza natural de los precios. Si su valor es bajo, el modelo exitosamente se ajusta a los datos y realiza predicciones más precisas. El error se basa en la diferencia entre los ejemplos de testeo y las predicciones que fueron realizadas."
      ],
      "metadata": {
        "id": "0XH5LpkqxfuB"
      }
    },
    {
      "cell_type": "code",
      "source": [
        "from sklearn.metrics import mean_squared_error\n",
        "\n",
        "mse = mean_squared_error(y_test, predictions)\n",
        "print(\"Error Cuadrático Medio (MSE):\", mse)"
      ],
      "metadata": {
        "colab": {
          "base_uri": "https://localhost:8080/"
        },
        "id": "rSFZzcNQ5pKg",
        "outputId": "f2db515e-a49a-45a8-f4cb-c32680ab2beb"
      },
      "execution_count": 52,
      "outputs": [
        {
          "output_type": "stream",
          "name": "stdout",
          "text": [
            "Error Cuadrático Medio (MSE): 71079.25471698113\n"
          ]
        }
      ]
    },
    {
      "cell_type": "markdown",
      "source": [
        " En este caso, el valor del MSE es relativamente grande (alrededor de 71 mil) respecto a la varianza natural que es de 66 mil aproximadamente. Esto sugiere que las predicciones del modelo son ligeramente discrepantes respecto a los valores reales."
      ],
      "metadata": {
        "id": "rK224SFmynIr"
      }
    },
    {
      "cell_type": "code",
      "source": [
        "from sklearn.metrics import r2_score\n",
        "\n",
        "r2 = r2_score(y_test, predictions)\n",
        "print(\"Coeficiente de Determinación (R²):\", r2)"
      ],
      "metadata": {
        "colab": {
          "base_uri": "https://localhost:8080/"
        },
        "id": "asWEwJqI3COU",
        "outputId": "ba267c5c-b226-4b86-8d44-e4587e66c1b1"
      },
      "execution_count": 53,
      "outputs": [
        {
          "output_type": "stream",
          "name": "stdout",
          "text": [
            "Coeficiente de Determinación (R²): -0.026304486030652496\n"
          ]
        }
      ]
    },
    {
      "cell_type": "markdown",
      "source": [
        "Debido al resultado negativo, el r cuadrático no explica la variabilidad de los precios."
      ],
      "metadata": {
        "id": "1rZy2zGo1FAA"
      }
    },
    {
      "cell_type": "markdown",
      "source": [
        "# 7.e. Optimización de parámetros del modelo"
      ],
      "metadata": {
        "id": "7zrbn-_U6ZZ3"
      }
    },
    {
      "cell_type": "code",
      "source": [
        "from sklearn.linear_model import LinearRegression\n",
        "from sklearn.model_selection import GridSearchCV\n",
        "\n",
        "# Definir el espacio de búsqueda de hiperparámetros\n",
        "param_grid = {\n",
        "    'fit_intercept': [True, False]\n",
        "}\n",
        "\n",
        "# Crear el modelo de regresión lineal\n",
        "model = LinearRegression()\n",
        "\n",
        "# Realizar la búsqueda de hiperparámetros con validación cruzada\n",
        "grid_search = GridSearchCV(model, param_grid, cv=5, scoring='neg_mean_squared_error')\n",
        "grid_search.fit(X_train, y_train)\n",
        "\n",
        "# Obtener los mejores hiperparámetros y el mejor modelo\n",
        "best_params = grid_search.best_params_\n",
        "best_model = grid_search.best_estimator_\n",
        "\n",
        "# Evaluar el modelo final en el conjunto de prueba\n",
        "predictions = best_model.predict(X_test)\n",
        "\n"
      ],
      "metadata": {
        "id": "e7snXJ446Yot"
      },
      "execution_count": 54,
      "outputs": []
    },
    {
      "cell_type": "code",
      "source": [
        "# Evaluar el modelo final en el conjunto de prueba\n",
        "predictions = best_model.predict(X_test)\n",
        "\n",
        "# Calcular el Error Cuadrático Medio (MSE) en el conjunto de prueba\n",
        "mse = mean_squared_error(y_test, predictions)\n",
        "print(\"Error Cuadrático Medio (MSE) del modelo final:\", mse)\n",
        "\n",
        "# Calcular el Coeficiente de Determinación (R²) en el conjunto de prueba\n",
        "r2 = r2_score(y_test, predictions)\n",
        "print(\"Coeficiente de Determinación (R²) del modelo final:\", r2)"
      ],
      "metadata": {
        "colab": {
          "base_uri": "https://localhost:8080/"
        },
        "id": "wsL6w3616nsh",
        "outputId": "e2833be3-8595-411a-ea70-4e566ca17e49"
      },
      "execution_count": 55,
      "outputs": [
        {
          "output_type": "stream",
          "name": "stdout",
          "text": [
            "Error Cuadrático Medio (MSE) del modelo final: 71079.25471698113\n",
            "Coeficiente de Determinación (R²) del modelo final: -0.026304486030652496\n"
          ]
        }
      ]
    },
    {
      "cell_type": "markdown",
      "source": [
        "# 8. Conclusión\n",
        "\n",
        "Mediante este proyecto concluimos que los productos de moda de la plataforma e-commerce presentan datos que permiten identificar: una mayor cantidad de compras de artículos de la zona superior del cuerpo, en particular remeras, una mayor cantidad de ventas entre el período 2011 y 2012, sobretodo en temporadas de verano y otoño, con una importante caída en los años siguientes (hasta el año 2018 de acuerdo al dataset). Se registra una mayor tendencia del género masculino a la compra online y una varianza natural de 66 mil dólares promedios. Si bien el algoritmo de regresión lineal (múltiple) suele ser el preferido para la predicción de precios futuros, en este caso, el rendimiento del modelo después de la optimización de hiperparámetros no mejora o no cumple con los criterios de rendimiento deseados, de lo cual, se considera como posibles soluciones futuras el refinamiento de la calidad de los datos y considerar además la posibilidad de aumentar el tamaño del conjunto de datos disponibles."
      ],
      "metadata": {
        "id": "5FE5M-965BHA"
      }
    }
  ]
}